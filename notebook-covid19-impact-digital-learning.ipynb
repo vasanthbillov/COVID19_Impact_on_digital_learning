{
 "cells": [
  {
   "cell_type": "markdown",
   "id": "0b7bffbf",
   "metadata": {
    "execution": {
     "iopub.execute_input": "2021-09-13T09:25:42.861518Z",
     "iopub.status.busy": "2021-09-13T09:25:42.860812Z",
     "iopub.status.idle": "2021-09-13T09:25:42.87975Z",
     "shell.execute_reply": "2021-09-13T09:25:42.878497Z",
     "shell.execute_reply.started": "2021-09-13T09:25:42.861478Z"
    },
    "papermill": {
     "duration": 0.041745,
     "end_time": "2021-09-17T12:28:12.159407",
     "exception": false,
     "start_time": "2021-09-17T12:28:12.117662",
     "status": "completed"
    },
    "tags": []
   },
   "source": [
    "# LearnPlatform COVID-19 Impact on Digital Learning\n",
    "\n",
    "Nelson Mandela believed education was the most powerful weapon to change the world. But not every student has equal opportunities to learn. Effective policies and plans need to be enacted in order to make education more equitable—and perhaps your innovative data analysis will help reveal the solution.\n",
    "\n",
    "Current research shows educational outcomes are far from equitable. The imbalance was exacerbated by the COVID-19 pandemic. There's an urgent need to better understand and measure the scope and impact of the pandemic on these inequities.\n",
    "\n",
    "Education technology company LearnPlatform was founded in 2014 with a mission to expand equitable access to education technology for all students and teachers. LearnPlatform’s comprehensive edtech effectiveness system is used by districts and states to continuously improve the safety, equity, and effectiveness of their educational technology. LearnPlatform does so by generating an evidence basis for what’s working and enacting it to benefit students, teachers, and budgets.\n",
    "\n",
    "In this analytics competition, you’ll work to uncover trends in digital learning. Accomplish this with data analysis about how engagement with digital learning relates to factors like district demographics, broadband access, and state/national level policies and events. Then, submit a Kaggle Notebook to propose your best solution to these educational inequities.\n",
    "\n",
    "Your submissions will inform policies and practices that close the digital divide. With a better understanding of digital learning trends, you may help reverse the long-term learning loss among America’s most vulnerable, making education more equitable.\n",
    "\n",
    "## Problem Statement\n",
    "\n",
    "The COVID-19 Pandemic has disrupted learning for more than 56 million students in the United States. In the Spring of 2020, most states and local governments across the U.S. closed educational institutions to stop the spread of the virus. In response, schools and teachers have attempted to reach students remotely through distance learning tools and digital platforms. Until today, concerns of the exacaberting digital divide and long-term learning loss among America’s most vulnerable learners continue to grow.\n",
    "\n",
    "## Challenge\n",
    "\n",
    "We challenge the Kaggle community to explore (1) the state of digital learning in 2020 and (2) how the engagement of digital learning relates to factors such as district demographics, broadband access, and state/national level policies and events.\n",
    "\n",
    "We encourage you to guide the analysis with questions that are related to the themes that are described above (in bold font). Below are some examples of questions that relate to our problem statement:\n",
    "\n",
    "What is the picture of digital connectivity and engagement in 2020?\n",
    "What is the effect of the COVID-19 pandemic on online and distance learning, and how might this also evolve in the future?\n",
    "How does student engagement with different types of education technology change over the course of the pandemic?\n",
    "How does student engagement with online learning platforms relate to different geography? Demographic context (e.g., race/ethnicity, ESL, learning disability)? Learning context? Socioeconomic status?\n",
    "Do certain state interventions, practices or policies (e.g., stimulus, reopening, eviction moratorium) correlate with the increase or decrease online engagement?"
   ]
  },
  {
   "cell_type": "markdown",
   "id": "edee963f",
   "metadata": {
    "papermill": {
     "duration": 0.040176,
     "end_time": "2021-09-17T12:28:12.242535",
     "exception": false,
     "start_time": "2021-09-17T12:28:12.202359",
     "status": "completed"
    },
    "tags": []
   },
   "source": [
    "## Data Fetching"
   ]
  },
  {
   "cell_type": "code",
   "execution_count": 1,
   "id": "0ee5ccd7",
   "metadata": {
    "_cell_guid": "b1076dfc-b9ad-4769-8c92-a6c4dae69d19",
    "_uuid": "8f2839f25d086af736a60e9eeb907d3b93b6e0e5",
    "execution": {
     "iopub.execute_input": "2021-09-17T12:28:12.329458Z",
     "iopub.status.busy": "2021-09-17T12:28:12.328269Z",
     "iopub.status.idle": "2021-09-17T12:28:12.368611Z",
     "shell.execute_reply": "2021-09-17T12:28:12.367787Z",
     "shell.execute_reply.started": "2021-09-17T11:55:15.654102Z"
    },
    "papermill": {
     "duration": 0.085805,
     "end_time": "2021-09-17T12:28:12.368818",
     "exception": false,
     "start_time": "2021-09-17T12:28:12.283013",
     "status": "completed"
    },
    "tags": []
   },
   "outputs": [],
   "source": [
    "\n",
    "import numpy as np # linear algebra\n",
    "import pandas as pd # data processing, CSV file I/O (e.g. pd.read_csv)\n",
    "# Input data files are available in the read-only \"../input/\" directory\n",
    "# For example, running this (by clicking run or pressing Shift+Enter) will list all files under the input directory\n",
    "\n",
    "import os\n",
    "# print(dirname,filenames)\n",
    "for dirname, _, filenames in os.walk('/kaggle/input'):\n",
    "    for filename in filenames:\n",
    "        pass\n",
    "#         print(os.path.join(dirname, filename))"
   ]
  },
  {
   "cell_type": "markdown",
   "id": "899ed00b",
   "metadata": {
    "papermill": {
     "duration": 0.041954,
     "end_time": "2021-09-17T12:28:12.453125",
     "exception": false,
     "start_time": "2021-09-17T12:28:12.411171",
     "status": "completed"
    },
    "tags": []
   },
   "source": [
    "## Importing Libraries"
   ]
  },
  {
   "cell_type": "code",
   "execution_count": 2,
   "id": "91616414",
   "metadata": {
    "execution": {
     "iopub.execute_input": "2021-09-17T12:28:12.554247Z",
     "iopub.status.busy": "2021-09-17T12:28:12.553124Z",
     "iopub.status.idle": "2021-09-17T12:28:16.400525Z",
     "shell.execute_reply": "2021-09-17T12:28:16.401075Z",
     "shell.execute_reply.started": "2021-09-17T11:55:15.684190Z"
    },
    "papermill": {
     "duration": 3.901662,
     "end_time": "2021-09-17T12:28:16.401303",
     "exception": false,
     "start_time": "2021-09-17T12:28:12.499641",
     "status": "completed"
    },
    "tags": []
   },
   "outputs": [],
   "source": [
    "import glob\n",
    "import matplotlib.pyplot as plt\n",
    "import seaborn as sns\n",
    "import plotly.express as px\n",
    "import plotly.graph_objs as go\n",
    "import matplotlib.pyplot as plt\n",
    "import seaborn as sns\n",
    "import missingno as msno\n",
    "import wandb\n",
    "import math\n",
    "\n",
    "import folium\n",
    "from geopy.geocoders import Nominatim\n",
    "from folium import Choropleth, Circle, Marker\n",
    "from folium.plugins import HeatMap, MarkerCluster"
   ]
  },
  {
   "cell_type": "code",
   "execution_count": 3,
   "id": "3a075d4c",
   "metadata": {
    "execution": {
     "iopub.execute_input": "2021-09-17T12:28:16.486697Z",
     "iopub.status.busy": "2021-09-17T12:28:16.486012Z",
     "iopub.status.idle": "2021-09-17T12:28:18.801298Z",
     "shell.execute_reply": "2021-09-17T12:28:18.801810Z",
     "shell.execute_reply.started": "2021-09-17T11:55:19.386939Z"
    },
    "jupyter": {
     "source_hidden": true
    },
    "papermill": {
     "duration": 2.359467,
     "end_time": "2021-09-17T12:28:18.802008",
     "exception": false,
     "start_time": "2021-09-17T12:28:16.442541",
     "status": "completed"
    },
    "tags": []
   },
   "outputs": [
    {
     "data": {
      "text/html": [
       "<div>\n",
       "<style scoped>\n",
       "    .dataframe tbody tr th:only-of-type {\n",
       "        vertical-align: middle;\n",
       "    }\n",
       "\n",
       "    .dataframe tbody tr th {\n",
       "        vertical-align: top;\n",
       "    }\n",
       "\n",
       "    .dataframe thead th {\n",
       "        text-align: right;\n",
       "    }\n",
       "</style>\n",
       "<table border=\"1\" class=\"dataframe\">\n",
       "  <thead>\n",
       "    <tr style=\"text-align: right;\">\n",
       "      <th></th>\n",
       "      <th>time</th>\n",
       "      <th>lp_id</th>\n",
       "      <th>pct_access</th>\n",
       "      <th>engagement_index</th>\n",
       "    </tr>\n",
       "  </thead>\n",
       "  <tbody>\n",
       "    <tr>\n",
       "      <th>0</th>\n",
       "      <td>2020-02-21</td>\n",
       "      <td>77832.0</td>\n",
       "      <td>3.66</td>\n",
       "      <td>114.77</td>\n",
       "    </tr>\n",
       "    <tr>\n",
       "      <th>1</th>\n",
       "      <td>2020-02-21</td>\n",
       "      <td>32340.0</td>\n",
       "      <td>0.20</td>\n",
       "      <td>24.14</td>\n",
       "    </tr>\n",
       "    <tr>\n",
       "      <th>2</th>\n",
       "      <td>2020-02-21</td>\n",
       "      <td>85975.0</td>\n",
       "      <td>0.72</td>\n",
       "      <td>109.72</td>\n",
       "    </tr>\n",
       "    <tr>\n",
       "      <th>3</th>\n",
       "      <td>2020-02-21</td>\n",
       "      <td>43494.0</td>\n",
       "      <td>0.00</td>\n",
       "      <td>NaN</td>\n",
       "    </tr>\n",
       "    <tr>\n",
       "      <th>4</th>\n",
       "      <td>2020-02-21</td>\n",
       "      <td>83248.0</td>\n",
       "      <td>0.02</td>\n",
       "      <td>0.88</td>\n",
       "    </tr>\n",
       "    <tr>\n",
       "      <th>...</th>\n",
       "      <td>...</td>\n",
       "      <td>...</td>\n",
       "      <td>...</td>\n",
       "      <td>...</td>\n",
       "    </tr>\n",
       "    <tr>\n",
       "      <th>121973</th>\n",
       "      <td>2020-12-31</td>\n",
       "      <td>75783.0</td>\n",
       "      <td>0.02</td>\n",
       "      <td>1.56</td>\n",
       "    </tr>\n",
       "    <tr>\n",
       "      <th>121974</th>\n",
       "      <td>2020-12-31</td>\n",
       "      <td>29322.0</td>\n",
       "      <td>1.23</td>\n",
       "      <td>532.46</td>\n",
       "    </tr>\n",
       "    <tr>\n",
       "      <th>121975</th>\n",
       "      <td>2020-12-31</td>\n",
       "      <td>28504.0</td>\n",
       "      <td>0.60</td>\n",
       "      <td>188.73</td>\n",
       "    </tr>\n",
       "    <tr>\n",
       "      <th>121976</th>\n",
       "      <td>2020-12-31</td>\n",
       "      <td>85682.0</td>\n",
       "      <td>0.00</td>\n",
       "      <td>NaN</td>\n",
       "    </tr>\n",
       "    <tr>\n",
       "      <th>121977</th>\n",
       "      <td>2020-12-31</td>\n",
       "      <td>28467.0</td>\n",
       "      <td>0.00</td>\n",
       "      <td>NaN</td>\n",
       "    </tr>\n",
       "  </tbody>\n",
       "</table>\n",
       "<p>1546222 rows × 4 columns</p>\n",
       "</div>"
      ],
      "text/plain": [
       "              time    lp_id  pct_access  engagement_index\n",
       "0       2020-02-21  77832.0        3.66            114.77\n",
       "1       2020-02-21  32340.0        0.20             24.14\n",
       "2       2020-02-21  85975.0        0.72            109.72\n",
       "3       2020-02-21  43494.0        0.00               NaN\n",
       "4       2020-02-21  83248.0        0.02              0.88\n",
       "...            ...      ...         ...               ...\n",
       "121973  2020-12-31  75783.0        0.02              1.56\n",
       "121974  2020-12-31  29322.0        1.23            532.46\n",
       "121975  2020-12-31  28504.0        0.60            188.73\n",
       "121976  2020-12-31  85682.0        0.00               NaN\n",
       "121977  2020-12-31  28467.0        0.00               NaN\n",
       "\n",
       "[1546222 rows x 4 columns]"
      ]
     },
     "execution_count": 3,
     "metadata": {},
     "output_type": "execute_result"
    }
   ],
   "source": [
    "#Dont Run!\n",
    "df = pd.DataFrame()  \n",
    "\n",
    "import random\n",
    "random.seed(0)\n",
    "for file in random.sample(filenames, 20):\n",
    "    if df.empty:\n",
    "        df = pd.read_csv(os.path.join(dirname, file))\n",
    "    else:\n",
    "        d = pd.read_csv(os.path.join(dirname, file))\n",
    "        df = pd.concat([df, d])\n",
    "df"
   ]
  },
  {
   "cell_type": "markdown",
   "id": "4da23754",
   "metadata": {
    "papermill": {
     "duration": 0.039605,
     "end_time": "2021-09-17T12:28:18.882325",
     "exception": false,
     "start_time": "2021-09-17T12:28:18.842720",
     "status": "completed"
    },
    "tags": []
   },
   "source": [
    "## Reading Data"
   ]
  },
  {
   "cell_type": "code",
   "execution_count": 4,
   "id": "14a40c65",
   "metadata": {
    "execution": {
     "iopub.execute_input": "2021-09-17T12:28:18.970786Z",
     "iopub.status.busy": "2021-09-17T12:28:18.970017Z",
     "iopub.status.idle": "2021-09-17T12:28:41.695357Z",
     "shell.execute_reply": "2021-09-17T12:28:41.695915Z",
     "shell.execute_reply.started": "2021-09-17T11:55:21.325990Z"
    },
    "papermill": {
     "duration": 22.772573,
     "end_time": "2021-09-17T12:28:41.696121",
     "exception": false,
     "start_time": "2021-09-17T12:28:18.923548",
     "status": "completed"
    },
    "tags": []
   },
   "outputs": [
    {
     "data": {
      "text/html": [
       "<div>\n",
       "<style scoped>\n",
       "    .dataframe tbody tr th:only-of-type {\n",
       "        vertical-align: middle;\n",
       "    }\n",
       "\n",
       "    .dataframe tbody tr th {\n",
       "        vertical-align: top;\n",
       "    }\n",
       "\n",
       "    .dataframe thead th {\n",
       "        text-align: right;\n",
       "    }\n",
       "</style>\n",
       "<table border=\"1\" class=\"dataframe\">\n",
       "  <thead>\n",
       "    <tr style=\"text-align: right;\">\n",
       "      <th></th>\n",
       "      <th>time</th>\n",
       "      <th>lp_id</th>\n",
       "      <th>pct_access</th>\n",
       "      <th>engagement_index</th>\n",
       "      <th>district_id</th>\n",
       "    </tr>\n",
       "  </thead>\n",
       "  <tbody>\n",
       "    <tr>\n",
       "      <th>0</th>\n",
       "      <td>2020-01-01</td>\n",
       "      <td>92844.0</td>\n",
       "      <td>0.01</td>\n",
       "      <td>0.68</td>\n",
       "      <td>6345</td>\n",
       "    </tr>\n",
       "    <tr>\n",
       "      <th>1</th>\n",
       "      <td>2020-01-01</td>\n",
       "      <td>64838.0</td>\n",
       "      <td>0.01</td>\n",
       "      <td>0.68</td>\n",
       "      <td>6345</td>\n",
       "    </tr>\n",
       "    <tr>\n",
       "      <th>2</th>\n",
       "      <td>2020-01-01</td>\n",
       "      <td>94058.0</td>\n",
       "      <td>0.00</td>\n",
       "      <td>NaN</td>\n",
       "      <td>6345</td>\n",
       "    </tr>\n",
       "    <tr>\n",
       "      <th>3</th>\n",
       "      <td>2020-01-01</td>\n",
       "      <td>26488.0</td>\n",
       "      <td>0.03</td>\n",
       "      <td>26.21</td>\n",
       "      <td>6345</td>\n",
       "    </tr>\n",
       "    <tr>\n",
       "      <th>4</th>\n",
       "      <td>2020-01-01</td>\n",
       "      <td>32340.0</td>\n",
       "      <td>0.01</td>\n",
       "      <td>0.11</td>\n",
       "      <td>6345</td>\n",
       "    </tr>\n",
       "  </tbody>\n",
       "</table>\n",
       "</div>"
      ],
      "text/plain": [
       "         time    lp_id  pct_access  engagement_index district_id\n",
       "0  2020-01-01  92844.0        0.01              0.68        6345\n",
       "1  2020-01-01  64838.0        0.01              0.68        6345\n",
       "2  2020-01-01  94058.0        0.00               NaN        6345\n",
       "3  2020-01-01  26488.0        0.03             26.21        6345\n",
       "4  2020-01-01  32340.0        0.01              0.11        6345"
      ]
     },
     "execution_count": 4,
     "metadata": {},
     "output_type": "execute_result"
    }
   ],
   "source": [
    "path = '../input/learnplatform-covid19-impact-on-digital-learning/engagement_data' \n",
    "files = glob.glob(path + \"/*.csv\")\n",
    "\n",
    "csv_list = []\n",
    "\n",
    "for filename in files:\n",
    "    df = pd.read_csv(filename, index_col=None, header=0)\n",
    "    district_id = filename.split(\"/\")[4].split(\".\")[0]\n",
    "    df[\"district_id\"] = district_id\n",
    "    csv_list.append(df)\n",
    "    \n",
    "engagement_data = pd.concat(csv_list)\n",
    "engagement_data = engagement_data.reset_index(drop=True)\n",
    "engagement_data.head()"
   ]
  },
  {
   "cell_type": "code",
   "execution_count": 5,
   "id": "5f45612b",
   "metadata": {
    "execution": {
     "iopub.execute_input": "2021-09-17T12:28:41.782073Z",
     "iopub.status.busy": "2021-09-17T12:28:41.781361Z",
     "iopub.status.idle": "2021-09-17T12:28:42.732787Z",
     "shell.execute_reply": "2021-09-17T12:28:42.732039Z",
     "shell.execute_reply.started": "2021-09-17T11:55:41.563134Z"
    },
    "papermill": {
     "duration": 0.996302,
     "end_time": "2021-09-17T12:28:42.732945",
     "exception": false,
     "start_time": "2021-09-17T12:28:41.736643",
     "status": "completed"
    },
    "tags": []
   },
   "outputs": [],
   "source": [
    "engagement_data = engagement_data.rename(columns = {'lp_id':'LP ID'})"
   ]
  },
  {
   "cell_type": "code",
   "execution_count": 6,
   "id": "fe648bf8",
   "metadata": {
    "execution": {
     "iopub.execute_input": "2021-09-17T12:28:42.819533Z",
     "iopub.status.busy": "2021-09-17T12:28:42.818847Z",
     "iopub.status.idle": "2021-09-17T12:28:42.841652Z",
     "shell.execute_reply": "2021-09-17T12:28:42.841074Z",
     "shell.execute_reply.started": "2021-09-17T11:55:42.273667Z"
    },
    "papermill": {
     "duration": 0.068423,
     "end_time": "2021-09-17T12:28:42.841803",
     "exception": false,
     "start_time": "2021-09-17T12:28:42.773380",
     "status": "completed"
    },
    "tags": []
   },
   "outputs": [
    {
     "data": {
      "text/html": [
       "<div>\n",
       "<style scoped>\n",
       "    .dataframe tbody tr th:only-of-type {\n",
       "        vertical-align: middle;\n",
       "    }\n",
       "\n",
       "    .dataframe tbody tr th {\n",
       "        vertical-align: top;\n",
       "    }\n",
       "\n",
       "    .dataframe thead th {\n",
       "        text-align: right;\n",
       "    }\n",
       "</style>\n",
       "<table border=\"1\" class=\"dataframe\">\n",
       "  <thead>\n",
       "    <tr style=\"text-align: right;\">\n",
       "      <th></th>\n",
       "      <th>district_id</th>\n",
       "      <th>state</th>\n",
       "      <th>locale</th>\n",
       "      <th>pct_black/hispanic</th>\n",
       "      <th>pct_free/reduced</th>\n",
       "      <th>county_connections_ratio</th>\n",
       "      <th>pp_total_raw</th>\n",
       "    </tr>\n",
       "  </thead>\n",
       "  <tbody>\n",
       "    <tr>\n",
       "      <th>0</th>\n",
       "      <td>8815</td>\n",
       "      <td>Illinois</td>\n",
       "      <td>Suburb</td>\n",
       "      <td>[0, 0.2[</td>\n",
       "      <td>[0, 0.2[</td>\n",
       "      <td>[0.18, 1[</td>\n",
       "      <td>[14000, 16000[</td>\n",
       "    </tr>\n",
       "    <tr>\n",
       "      <th>1</th>\n",
       "      <td>2685</td>\n",
       "      <td>NaN</td>\n",
       "      <td>NaN</td>\n",
       "      <td>NaN</td>\n",
       "      <td>NaN</td>\n",
       "      <td>NaN</td>\n",
       "      <td>NaN</td>\n",
       "    </tr>\n",
       "    <tr>\n",
       "      <th>2</th>\n",
       "      <td>4921</td>\n",
       "      <td>Utah</td>\n",
       "      <td>Suburb</td>\n",
       "      <td>[0, 0.2[</td>\n",
       "      <td>[0.2, 0.4[</td>\n",
       "      <td>[0.18, 1[</td>\n",
       "      <td>[6000, 8000[</td>\n",
       "    </tr>\n",
       "    <tr>\n",
       "      <th>3</th>\n",
       "      <td>3188</td>\n",
       "      <td>NaN</td>\n",
       "      <td>NaN</td>\n",
       "      <td>NaN</td>\n",
       "      <td>NaN</td>\n",
       "      <td>NaN</td>\n",
       "      <td>NaN</td>\n",
       "    </tr>\n",
       "    <tr>\n",
       "      <th>4</th>\n",
       "      <td>2238</td>\n",
       "      <td>NaN</td>\n",
       "      <td>NaN</td>\n",
       "      <td>NaN</td>\n",
       "      <td>NaN</td>\n",
       "      <td>NaN</td>\n",
       "      <td>NaN</td>\n",
       "    </tr>\n",
       "  </tbody>\n",
       "</table>\n",
       "</div>"
      ],
      "text/plain": [
       "   district_id     state  locale pct_black/hispanic pct_free/reduced  \\\n",
       "0         8815  Illinois  Suburb           [0, 0.2[         [0, 0.2[   \n",
       "1         2685       NaN     NaN                NaN              NaN   \n",
       "2         4921      Utah  Suburb           [0, 0.2[       [0.2, 0.4[   \n",
       "3         3188       NaN     NaN                NaN              NaN   \n",
       "4         2238       NaN     NaN                NaN              NaN   \n",
       "\n",
       "  county_connections_ratio    pp_total_raw  \n",
       "0                [0.18, 1[  [14000, 16000[  \n",
       "1                      NaN             NaN  \n",
       "2                [0.18, 1[    [6000, 8000[  \n",
       "3                      NaN             NaN  \n",
       "4                      NaN             NaN  "
      ]
     },
     "execution_count": 6,
     "metadata": {},
     "output_type": "execute_result"
    }
   ],
   "source": [
    "district_data = pd.read_csv(\"../input/learnplatform-covid19-impact-on-digital-learning/districts_info.csv\")\n",
    "district_data.head()"
   ]
  },
  {
   "cell_type": "code",
   "execution_count": 7,
   "id": "84a8f6b9",
   "metadata": {
    "execution": {
     "iopub.execute_input": "2021-09-17T12:28:42.944884Z",
     "iopub.status.busy": "2021-09-17T12:28:42.944145Z",
     "iopub.status.idle": "2021-09-17T12:28:42.949105Z",
     "shell.execute_reply": "2021-09-17T12:28:42.948501Z",
     "shell.execute_reply.started": "2021-09-17T11:55:42.296874Z"
    },
    "papermill": {
     "duration": 0.066776,
     "end_time": "2021-09-17T12:28:42.949265",
     "exception": false,
     "start_time": "2021-09-17T12:28:42.882489",
     "status": "completed"
    },
    "tags": []
   },
   "outputs": [
    {
     "name": "stdout",
     "output_type": "stream",
     "text": [
      "<class 'pandas.core.frame.DataFrame'>\n",
      "RangeIndex: 233 entries, 0 to 232\n",
      "Data columns (total 7 columns):\n",
      " #   Column                    Non-Null Count  Dtype \n",
      "---  ------                    --------------  ----- \n",
      " 0   district_id               233 non-null    int64 \n",
      " 1   state                     176 non-null    object\n",
      " 2   locale                    176 non-null    object\n",
      " 3   pct_black/hispanic        176 non-null    object\n",
      " 4   pct_free/reduced          148 non-null    object\n",
      " 5   county_connections_ratio  162 non-null    object\n",
      " 6   pp_total_raw              118 non-null    object\n",
      "dtypes: int64(1), object(6)\n",
      "memory usage: 12.9+ KB\n"
     ]
    }
   ],
   "source": [
    "district_data.info()"
   ]
  },
  {
   "cell_type": "code",
   "execution_count": 8,
   "id": "94f60f1f",
   "metadata": {
    "execution": {
     "iopub.execute_input": "2021-09-17T12:28:43.040201Z",
     "iopub.status.busy": "2021-09-17T12:28:43.039482Z",
     "iopub.status.idle": "2021-09-17T12:28:43.073378Z",
     "shell.execute_reply": "2021-09-17T12:28:43.073998Z",
     "shell.execute_reply.started": "2021-09-17T11:55:42.319513Z"
    },
    "papermill": {
     "duration": 0.083312,
     "end_time": "2021-09-17T12:28:43.074213",
     "exception": false,
     "start_time": "2021-09-17T12:28:42.990901",
     "status": "completed"
    },
    "tags": []
   },
   "outputs": [
    {
     "data": {
      "text/html": [
       "<div>\n",
       "<style scoped>\n",
       "    .dataframe tbody tr th:only-of-type {\n",
       "        vertical-align: middle;\n",
       "    }\n",
       "\n",
       "    .dataframe tbody tr th {\n",
       "        vertical-align: top;\n",
       "    }\n",
       "\n",
       "    .dataframe thead th {\n",
       "        text-align: right;\n",
       "    }\n",
       "</style>\n",
       "<table border=\"1\" class=\"dataframe\">\n",
       "  <thead>\n",
       "    <tr style=\"text-align: right;\">\n",
       "      <th></th>\n",
       "      <th>district_id</th>\n",
       "      <th>state</th>\n",
       "      <th>locale</th>\n",
       "      <th>pct_black/hispanic</th>\n",
       "      <th>pct_free/reduced</th>\n",
       "      <th>county_connections_ratio</th>\n",
       "      <th>pp_total_raw</th>\n",
       "    </tr>\n",
       "  </thead>\n",
       "  <tbody>\n",
       "    <tr>\n",
       "      <th>0</th>\n",
       "      <td>8815</td>\n",
       "      <td>Illinois</td>\n",
       "      <td>Suburb</td>\n",
       "      <td>[0, 0.2[</td>\n",
       "      <td>[0, 0.2[</td>\n",
       "      <td>[0.18, 1[</td>\n",
       "      <td>[14000, 16000[</td>\n",
       "    </tr>\n",
       "    <tr>\n",
       "      <th>2</th>\n",
       "      <td>4921</td>\n",
       "      <td>Utah</td>\n",
       "      <td>Suburb</td>\n",
       "      <td>[0, 0.2[</td>\n",
       "      <td>[0.2, 0.4[</td>\n",
       "      <td>[0.18, 1[</td>\n",
       "      <td>[6000, 8000[</td>\n",
       "    </tr>\n",
       "    <tr>\n",
       "      <th>5</th>\n",
       "      <td>5987</td>\n",
       "      <td>Wisconsin</td>\n",
       "      <td>Suburb</td>\n",
       "      <td>[0, 0.2[</td>\n",
       "      <td>[0, 0.2[</td>\n",
       "      <td>[0.18, 1[</td>\n",
       "      <td>[10000, 12000[</td>\n",
       "    </tr>\n",
       "    <tr>\n",
       "      <th>6</th>\n",
       "      <td>3710</td>\n",
       "      <td>Utah</td>\n",
       "      <td>Suburb</td>\n",
       "      <td>[0, 0.2[</td>\n",
       "      <td>[0.4, 0.6[</td>\n",
       "      <td>[0.18, 1[</td>\n",
       "      <td>[6000, 8000[</td>\n",
       "    </tr>\n",
       "    <tr>\n",
       "      <th>7</th>\n",
       "      <td>7177</td>\n",
       "      <td>North Carolina</td>\n",
       "      <td>Suburb</td>\n",
       "      <td>[0.2, 0.4[</td>\n",
       "      <td>[0.2, 0.4[</td>\n",
       "      <td>[0.18, 1[</td>\n",
       "      <td>[8000, 10000[</td>\n",
       "    </tr>\n",
       "    <tr>\n",
       "      <th>...</th>\n",
       "      <td>...</td>\n",
       "      <td>...</td>\n",
       "      <td>...</td>\n",
       "      <td>...</td>\n",
       "      <td>...</td>\n",
       "      <td>...</td>\n",
       "      <td>...</td>\n",
       "    </tr>\n",
       "    <tr>\n",
       "      <th>228</th>\n",
       "      <td>9515</td>\n",
       "      <td>New York</td>\n",
       "      <td>Rural</td>\n",
       "      <td>[0, 0.2[</td>\n",
       "      <td>[0.4, 0.6[</td>\n",
       "      <td>[0.18, 1[</td>\n",
       "      <td>[18000, 20000[</td>\n",
       "    </tr>\n",
       "    <tr>\n",
       "      <th>229</th>\n",
       "      <td>8103</td>\n",
       "      <td>Tennessee</td>\n",
       "      <td>Rural</td>\n",
       "      <td>[0.2, 0.4[</td>\n",
       "      <td>NaN</td>\n",
       "      <td>[0.18, 1[</td>\n",
       "      <td>[8000, 10000[</td>\n",
       "    </tr>\n",
       "    <tr>\n",
       "      <th>230</th>\n",
       "      <td>4929</td>\n",
       "      <td>Virginia</td>\n",
       "      <td>Rural</td>\n",
       "      <td>[0, 0.2[</td>\n",
       "      <td>[0.4, 0.6[</td>\n",
       "      <td>[0.18, 1[</td>\n",
       "      <td>[12000, 14000[</td>\n",
       "    </tr>\n",
       "    <tr>\n",
       "      <th>231</th>\n",
       "      <td>7975</td>\n",
       "      <td>California</td>\n",
       "      <td>City</td>\n",
       "      <td>[0.6, 0.8[</td>\n",
       "      <td>[0.6, 0.8[</td>\n",
       "      <td>[0.18, 1[</td>\n",
       "      <td>NaN</td>\n",
       "    </tr>\n",
       "    <tr>\n",
       "      <th>232</th>\n",
       "      <td>7164</td>\n",
       "      <td>California</td>\n",
       "      <td>City</td>\n",
       "      <td>[0.6, 0.8[</td>\n",
       "      <td>[0.6, 0.8[</td>\n",
       "      <td>[0.18, 1[</td>\n",
       "      <td>NaN</td>\n",
       "    </tr>\n",
       "  </tbody>\n",
       "</table>\n",
       "<p>176 rows × 7 columns</p>\n",
       "</div>"
      ],
      "text/plain": [
       "     district_id           state  locale pct_black/hispanic pct_free/reduced  \\\n",
       "0           8815        Illinois  Suburb           [0, 0.2[         [0, 0.2[   \n",
       "2           4921            Utah  Suburb           [0, 0.2[       [0.2, 0.4[   \n",
       "5           5987       Wisconsin  Suburb           [0, 0.2[         [0, 0.2[   \n",
       "6           3710            Utah  Suburb           [0, 0.2[       [0.4, 0.6[   \n",
       "7           7177  North Carolina  Suburb         [0.2, 0.4[       [0.2, 0.4[   \n",
       "..           ...             ...     ...                ...              ...   \n",
       "228         9515        New York   Rural           [0, 0.2[       [0.4, 0.6[   \n",
       "229         8103       Tennessee   Rural         [0.2, 0.4[              NaN   \n",
       "230         4929        Virginia   Rural           [0, 0.2[       [0.4, 0.6[   \n",
       "231         7975      California    City         [0.6, 0.8[       [0.6, 0.8[   \n",
       "232         7164      California    City         [0.6, 0.8[       [0.6, 0.8[   \n",
       "\n",
       "    county_connections_ratio    pp_total_raw  \n",
       "0                  [0.18, 1[  [14000, 16000[  \n",
       "2                  [0.18, 1[    [6000, 8000[  \n",
       "5                  [0.18, 1[  [10000, 12000[  \n",
       "6                  [0.18, 1[    [6000, 8000[  \n",
       "7                  [0.18, 1[   [8000, 10000[  \n",
       "..                       ...             ...  \n",
       "228                [0.18, 1[  [18000, 20000[  \n",
       "229                [0.18, 1[   [8000, 10000[  \n",
       "230                [0.18, 1[  [12000, 14000[  \n",
       "231                [0.18, 1[             NaN  \n",
       "232                [0.18, 1[             NaN  \n",
       "\n",
       "[176 rows x 7 columns]"
      ]
     },
     "execution_count": 8,
     "metadata": {},
     "output_type": "execute_result"
    }
   ],
   "source": [
    "district_data = district_data[district_data.isnull().sum(axis=1)<5]\n",
    "district_data"
   ]
  },
  {
   "cell_type": "code",
   "execution_count": 9,
   "id": "a4448daf",
   "metadata": {
    "execution": {
     "iopub.execute_input": "2021-09-17T12:28:43.173389Z",
     "iopub.status.busy": "2021-09-17T12:28:43.172602Z",
     "iopub.status.idle": "2021-09-17T12:28:43.177699Z",
     "shell.execute_reply": "2021-09-17T12:28:43.176895Z",
     "shell.execute_reply.started": "2021-09-17T11:55:42.364931Z"
    },
    "papermill": {
     "duration": 0.059468,
     "end_time": "2021-09-17T12:28:43.177853",
     "exception": false,
     "start_time": "2021-09-17T12:28:43.118385",
     "status": "completed"
    },
    "tags": []
   },
   "outputs": [
    {
     "data": {
      "text/plain": [
       "district_id                  0\n",
       "state                        0\n",
       "locale                       0\n",
       "pct_black/hispanic           0\n",
       "pct_free/reduced            28\n",
       "county_connections_ratio    14\n",
       "pp_total_raw                58\n",
       "dtype: int64"
      ]
     },
     "execution_count": 9,
     "metadata": {},
     "output_type": "execute_result"
    }
   ],
   "source": [
    "district_data.isnull().sum()"
   ]
  },
  {
   "cell_type": "code",
   "execution_count": 10,
   "id": "c99abc2a",
   "metadata": {
    "execution": {
     "iopub.execute_input": "2021-09-17T12:28:43.272542Z",
     "iopub.status.busy": "2021-09-17T12:28:43.271763Z",
     "iopub.status.idle": "2021-09-17T12:28:43.276296Z",
     "shell.execute_reply": "2021-09-17T12:28:43.275690Z",
     "shell.execute_reply.started": "2021-09-17T11:55:42.379355Z"
    },
    "papermill": {
     "duration": 0.05569,
     "end_time": "2021-09-17T12:28:43.276460",
     "exception": false,
     "start_time": "2021-09-17T12:28:43.220770",
     "status": "completed"
    },
    "tags": []
   },
   "outputs": [
    {
     "data": {
      "text/plain": [
       "district_id                  int64\n",
       "state                       object\n",
       "locale                      object\n",
       "pct_black/hispanic          object\n",
       "pct_free/reduced            object\n",
       "county_connections_ratio    object\n",
       "pp_total_raw                object\n",
       "dtype: object"
      ]
     },
     "execution_count": 10,
     "metadata": {},
     "output_type": "execute_result"
    }
   ],
   "source": [
    "district_data.dtypes"
   ]
  },
  {
   "cell_type": "code",
   "execution_count": 11,
   "id": "ecab248d",
   "metadata": {
    "execution": {
     "iopub.execute_input": "2021-09-17T12:28:43.369549Z",
     "iopub.status.busy": "2021-09-17T12:28:43.368824Z",
     "iopub.status.idle": "2021-09-17T12:28:43.394406Z",
     "shell.execute_reply": "2021-09-17T12:28:43.393777Z",
     "shell.execute_reply.started": "2021-09-17T11:55:42.393305Z"
    },
    "papermill": {
     "duration": 0.074629,
     "end_time": "2021-09-17T12:28:43.394578",
     "exception": false,
     "start_time": "2021-09-17T12:28:43.319949",
     "status": "completed"
    },
    "tags": []
   },
   "outputs": [
    {
     "data": {
      "text/html": [
       "<div>\n",
       "<style scoped>\n",
       "    .dataframe tbody tr th:only-of-type {\n",
       "        vertical-align: middle;\n",
       "    }\n",
       "\n",
       "    .dataframe tbody tr th {\n",
       "        vertical-align: top;\n",
       "    }\n",
       "\n",
       "    .dataframe thead th {\n",
       "        text-align: right;\n",
       "    }\n",
       "</style>\n",
       "<table border=\"1\" class=\"dataframe\">\n",
       "  <thead>\n",
       "    <tr style=\"text-align: right;\">\n",
       "      <th></th>\n",
       "      <th>LP ID</th>\n",
       "      <th>URL</th>\n",
       "      <th>Product Name</th>\n",
       "      <th>Provider/Company Name</th>\n",
       "      <th>Sector(s)</th>\n",
       "      <th>Primary Essential Function</th>\n",
       "    </tr>\n",
       "  </thead>\n",
       "  <tbody>\n",
       "    <tr>\n",
       "      <th>0</th>\n",
       "      <td>13117</td>\n",
       "      <td>https://www.splashmath.com</td>\n",
       "      <td>SplashLearn</td>\n",
       "      <td>StudyPad Inc.</td>\n",
       "      <td>PreK-12</td>\n",
       "      <td>LC - Digital Learning Platforms</td>\n",
       "    </tr>\n",
       "    <tr>\n",
       "      <th>1</th>\n",
       "      <td>66933</td>\n",
       "      <td>https://abcmouse.com</td>\n",
       "      <td>ABCmouse.com</td>\n",
       "      <td>Age of Learning, Inc</td>\n",
       "      <td>PreK-12</td>\n",
       "      <td>LC - Digital Learning Platforms</td>\n",
       "    </tr>\n",
       "    <tr>\n",
       "      <th>2</th>\n",
       "      <td>50479</td>\n",
       "      <td>https://www.abcya.com</td>\n",
       "      <td>ABCya!</td>\n",
       "      <td>ABCya.com, LLC</td>\n",
       "      <td>PreK-12</td>\n",
       "      <td>LC - Sites, Resources &amp; Reference - Games &amp; Si...</td>\n",
       "    </tr>\n",
       "    <tr>\n",
       "      <th>3</th>\n",
       "      <td>92993</td>\n",
       "      <td>http://www.aleks.com/</td>\n",
       "      <td>ALEKS</td>\n",
       "      <td>McGraw-Hill PreK-12</td>\n",
       "      <td>PreK-12; Higher Ed</td>\n",
       "      <td>LC - Digital Learning Platforms</td>\n",
       "    </tr>\n",
       "    <tr>\n",
       "      <th>4</th>\n",
       "      <td>73104</td>\n",
       "      <td>https://www.achieve3000.com/</td>\n",
       "      <td>Achieve3000</td>\n",
       "      <td>Achieve3000</td>\n",
       "      <td>PreK-12</td>\n",
       "      <td>LC - Digital Learning Platforms</td>\n",
       "    </tr>\n",
       "  </tbody>\n",
       "</table>\n",
       "</div>"
      ],
      "text/plain": [
       "   LP ID                           URL  Product Name  Provider/Company Name  \\\n",
       "0  13117    https://www.splashmath.com   SplashLearn          StudyPad Inc.   \n",
       "1  66933          https://abcmouse.com  ABCmouse.com  Age of Learning, Inc    \n",
       "2  50479         https://www.abcya.com        ABCya!         ABCya.com, LLC   \n",
       "3  92993         http://www.aleks.com/         ALEKS    McGraw-Hill PreK-12   \n",
       "4  73104  https://www.achieve3000.com/   Achieve3000            Achieve3000   \n",
       "\n",
       "            Sector(s)                         Primary Essential Function  \n",
       "0             PreK-12                    LC - Digital Learning Platforms  \n",
       "1             PreK-12                    LC - Digital Learning Platforms  \n",
       "2             PreK-12  LC - Sites, Resources & Reference - Games & Si...  \n",
       "3  PreK-12; Higher Ed                    LC - Digital Learning Platforms  \n",
       "4             PreK-12                    LC - Digital Learning Platforms  "
      ]
     },
     "execution_count": 11,
     "metadata": {},
     "output_type": "execute_result"
    }
   ],
   "source": [
    "product_data = pd.read_csv(\"../input/learnplatform-covid19-impact-on-digital-learning/products_info.csv\")\n",
    "product_data.head()"
   ]
  },
  {
   "cell_type": "code",
   "execution_count": 12,
   "id": "be6bcace",
   "metadata": {
    "execution": {
     "iopub.execute_input": "2021-09-17T12:28:43.502724Z",
     "iopub.status.busy": "2021-09-17T12:28:43.502020Z",
     "iopub.status.idle": "2021-09-17T12:28:43.505040Z",
     "shell.execute_reply": "2021-09-17T12:28:43.505689Z",
     "shell.execute_reply.started": "2021-09-17T11:55:42.422686Z"
    },
    "papermill": {
     "duration": 0.064352,
     "end_time": "2021-09-17T12:28:43.505888",
     "exception": false,
     "start_time": "2021-09-17T12:28:43.441536",
     "status": "completed"
    },
    "tags": []
   },
   "outputs": [
    {
     "name": "stdout",
     "output_type": "stream",
     "text": [
      "<class 'pandas.core.frame.DataFrame'>\n",
      "RangeIndex: 372 entries, 0 to 371\n",
      "Data columns (total 6 columns):\n",
      " #   Column                      Non-Null Count  Dtype \n",
      "---  ------                      --------------  ----- \n",
      " 0   LP ID                       372 non-null    int64 \n",
      " 1   URL                         372 non-null    object\n",
      " 2   Product Name                372 non-null    object\n",
      " 3   Provider/Company Name       371 non-null    object\n",
      " 4   Sector(s)                   352 non-null    object\n",
      " 5   Primary Essential Function  352 non-null    object\n",
      "dtypes: int64(1), object(5)\n",
      "memory usage: 17.6+ KB\n"
     ]
    }
   ],
   "source": [
    "product_data.info()"
   ]
  },
  {
   "cell_type": "code",
   "execution_count": 13,
   "id": "73913767",
   "metadata": {
    "execution": {
     "iopub.execute_input": "2021-09-17T12:28:43.604095Z",
     "iopub.status.busy": "2021-09-17T12:28:43.603259Z",
     "iopub.status.idle": "2021-09-17T12:28:43.608499Z",
     "shell.execute_reply": "2021-09-17T12:28:43.607933Z",
     "shell.execute_reply.started": "2021-09-17T11:55:42.442160Z"
    },
    "papermill": {
     "duration": 0.059339,
     "end_time": "2021-09-17T12:28:43.608638",
     "exception": false,
     "start_time": "2021-09-17T12:28:43.549299",
     "status": "completed"
    },
    "tags": []
   },
   "outputs": [
    {
     "data": {
      "text/plain": [
       "LP ID                         0.000000\n",
       "URL                           0.000000\n",
       "Product Name                  0.000000\n",
       "Provider/Company Name         0.002688\n",
       "Sector(s)                     0.053763\n",
       "Primary Essential Function    0.053763\n",
       "dtype: float64"
      ]
     },
     "execution_count": 13,
     "metadata": {},
     "output_type": "execute_result"
    }
   ],
   "source": [
    "product_data.isnull().sum()/len(product_data.index)"
   ]
  },
  {
   "cell_type": "code",
   "execution_count": 14,
   "id": "179b6055",
   "metadata": {
    "execution": {
     "iopub.execute_input": "2021-09-17T12:28:43.702783Z",
     "iopub.status.busy": "2021-09-17T12:28:43.702076Z",
     "iopub.status.idle": "2021-09-17T12:29:01.377820Z",
     "shell.execute_reply": "2021-09-17T12:29:01.377235Z",
     "shell.execute_reply.started": "2021-09-17T11:55:42.458392Z"
    },
    "papermill": {
     "duration": 17.725697,
     "end_time": "2021-09-17T12:29:01.377979",
     "exception": false,
     "start_time": "2021-09-17T12:28:43.652282",
     "status": "completed"
    },
    "tags": []
   },
   "outputs": [
    {
     "data": {
      "text/html": [
       "<div>\n",
       "<style scoped>\n",
       "    .dataframe tbody tr th:only-of-type {\n",
       "        vertical-align: middle;\n",
       "    }\n",
       "\n",
       "    .dataframe tbody tr th {\n",
       "        vertical-align: top;\n",
       "    }\n",
       "\n",
       "    .dataframe thead th {\n",
       "        text-align: right;\n",
       "    }\n",
       "</style>\n",
       "<table border=\"1\" class=\"dataframe\">\n",
       "  <thead>\n",
       "    <tr style=\"text-align: right;\">\n",
       "      <th></th>\n",
       "      <th>time</th>\n",
       "      <th>LP ID</th>\n",
       "      <th>pct_access</th>\n",
       "      <th>engagement_index</th>\n",
       "      <th>district_id</th>\n",
       "      <th>URL</th>\n",
       "      <th>Product Name</th>\n",
       "      <th>Provider/Company Name</th>\n",
       "      <th>Sector(s)</th>\n",
       "      <th>Primary Essential Function</th>\n",
       "      <th>state</th>\n",
       "      <th>locale</th>\n",
       "      <th>pct_black/hispanic</th>\n",
       "      <th>pct_free/reduced</th>\n",
       "      <th>county_connections_ratio</th>\n",
       "      <th>pp_total_raw</th>\n",
       "    </tr>\n",
       "  </thead>\n",
       "  <tbody>\n",
       "    <tr>\n",
       "      <th>0</th>\n",
       "      <td>2020-01-01</td>\n",
       "      <td>92844.0</td>\n",
       "      <td>0.01</td>\n",
       "      <td>0.68</td>\n",
       "      <td>6345</td>\n",
       "      <td>https://www.typing.com/</td>\n",
       "      <td>Typing.com</td>\n",
       "      <td>Teaching.com</td>\n",
       "      <td>PreK-12; Higher Ed; Corporate</td>\n",
       "      <td>LC - Digital Learning Platforms</td>\n",
       "      <td>Massachusetts</td>\n",
       "      <td>Suburb</td>\n",
       "      <td>[0.2, 0.4[</td>\n",
       "      <td>NaN</td>\n",
       "      <td>[0.18, 1[</td>\n",
       "      <td>[12000, 14000[</td>\n",
       "    </tr>\n",
       "    <tr>\n",
       "      <th>1</th>\n",
       "      <td>2020-01-02</td>\n",
       "      <td>92844.0</td>\n",
       "      <td>0.09</td>\n",
       "      <td>6.58</td>\n",
       "      <td>6345</td>\n",
       "      <td>https://www.typing.com/</td>\n",
       "      <td>Typing.com</td>\n",
       "      <td>Teaching.com</td>\n",
       "      <td>PreK-12; Higher Ed; Corporate</td>\n",
       "      <td>LC - Digital Learning Platforms</td>\n",
       "      <td>Massachusetts</td>\n",
       "      <td>Suburb</td>\n",
       "      <td>[0.2, 0.4[</td>\n",
       "      <td>NaN</td>\n",
       "      <td>[0.18, 1[</td>\n",
       "      <td>[12000, 14000[</td>\n",
       "    </tr>\n",
       "    <tr>\n",
       "      <th>2</th>\n",
       "      <td>2020-01-03</td>\n",
       "      <td>92844.0</td>\n",
       "      <td>0.06</td>\n",
       "      <td>3.63</td>\n",
       "      <td>6345</td>\n",
       "      <td>https://www.typing.com/</td>\n",
       "      <td>Typing.com</td>\n",
       "      <td>Teaching.com</td>\n",
       "      <td>PreK-12; Higher Ed; Corporate</td>\n",
       "      <td>LC - Digital Learning Platforms</td>\n",
       "      <td>Massachusetts</td>\n",
       "      <td>Suburb</td>\n",
       "      <td>[0.2, 0.4[</td>\n",
       "      <td>NaN</td>\n",
       "      <td>[0.18, 1[</td>\n",
       "      <td>[12000, 14000[</td>\n",
       "    </tr>\n",
       "    <tr>\n",
       "      <th>3</th>\n",
       "      <td>2020-01-06</td>\n",
       "      <td>92844.0</td>\n",
       "      <td>0.22</td>\n",
       "      <td>9.87</td>\n",
       "      <td>6345</td>\n",
       "      <td>https://www.typing.com/</td>\n",
       "      <td>Typing.com</td>\n",
       "      <td>Teaching.com</td>\n",
       "      <td>PreK-12; Higher Ed; Corporate</td>\n",
       "      <td>LC - Digital Learning Platforms</td>\n",
       "      <td>Massachusetts</td>\n",
       "      <td>Suburb</td>\n",
       "      <td>[0.2, 0.4[</td>\n",
       "      <td>NaN</td>\n",
       "      <td>[0.18, 1[</td>\n",
       "      <td>[12000, 14000[</td>\n",
       "    </tr>\n",
       "    <tr>\n",
       "      <th>4</th>\n",
       "      <td>2020-01-07</td>\n",
       "      <td>92844.0</td>\n",
       "      <td>0.16</td>\n",
       "      <td>15.08</td>\n",
       "      <td>6345</td>\n",
       "      <td>https://www.typing.com/</td>\n",
       "      <td>Typing.com</td>\n",
       "      <td>Teaching.com</td>\n",
       "      <td>PreK-12; Higher Ed; Corporate</td>\n",
       "      <td>LC - Digital Learning Platforms</td>\n",
       "      <td>Massachusetts</td>\n",
       "      <td>Suburb</td>\n",
       "      <td>[0.2, 0.4[</td>\n",
       "      <td>NaN</td>\n",
       "      <td>[0.18, 1[</td>\n",
       "      <td>[12000, 14000[</td>\n",
       "    </tr>\n",
       "  </tbody>\n",
       "</table>\n",
       "</div>"
      ],
      "text/plain": [
       "         time    LP ID  pct_access  engagement_index  district_id  \\\n",
       "0  2020-01-01  92844.0        0.01              0.68         6345   \n",
       "1  2020-01-02  92844.0        0.09              6.58         6345   \n",
       "2  2020-01-03  92844.0        0.06              3.63         6345   \n",
       "3  2020-01-06  92844.0        0.22              9.87         6345   \n",
       "4  2020-01-07  92844.0        0.16             15.08         6345   \n",
       "\n",
       "                       URL Product Name Provider/Company Name  \\\n",
       "0  https://www.typing.com/   Typing.com          Teaching.com   \n",
       "1  https://www.typing.com/   Typing.com          Teaching.com   \n",
       "2  https://www.typing.com/   Typing.com          Teaching.com   \n",
       "3  https://www.typing.com/   Typing.com          Teaching.com   \n",
       "4  https://www.typing.com/   Typing.com          Teaching.com   \n",
       "\n",
       "                       Sector(s)       Primary Essential Function  \\\n",
       "0  PreK-12; Higher Ed; Corporate  LC - Digital Learning Platforms   \n",
       "1  PreK-12; Higher Ed; Corporate  LC - Digital Learning Platforms   \n",
       "2  PreK-12; Higher Ed; Corporate  LC - Digital Learning Platforms   \n",
       "3  PreK-12; Higher Ed; Corporate  LC - Digital Learning Platforms   \n",
       "4  PreK-12; Higher Ed; Corporate  LC - Digital Learning Platforms   \n",
       "\n",
       "           state  locale pct_black/hispanic pct_free/reduced  \\\n",
       "0  Massachusetts  Suburb         [0.2, 0.4[              NaN   \n",
       "1  Massachusetts  Suburb         [0.2, 0.4[              NaN   \n",
       "2  Massachusetts  Suburb         [0.2, 0.4[              NaN   \n",
       "3  Massachusetts  Suburb         [0.2, 0.4[              NaN   \n",
       "4  Massachusetts  Suburb         [0.2, 0.4[              NaN   \n",
       "\n",
       "  county_connections_ratio    pp_total_raw  \n",
       "0                [0.18, 1[  [12000, 14000[  \n",
       "1                [0.18, 1[  [12000, 14000[  \n",
       "2                [0.18, 1[  [12000, 14000[  \n",
       "3                [0.18, 1[  [12000, 14000[  \n",
       "4                [0.18, 1[  [12000, 14000[  "
      ]
     },
     "execution_count": 14,
     "metadata": {},
     "output_type": "execute_result"
    }
   ],
   "source": [
    "df_merge = pd.merge(engagement_data, product_data, how='inner', on='LP ID')\n",
    "df_merge['district_id'] = df_merge['district_id'].astype('int')\n",
    "df_master = pd.merge(df_merge, district_data, how='inner', on='district_id')\n",
    "df_master.head()"
   ]
  },
  {
   "cell_type": "code",
   "execution_count": 15,
   "id": "03ea7daa",
   "metadata": {
    "execution": {
     "iopub.execute_input": "2021-09-17T12:29:02.348921Z",
     "iopub.status.busy": "2021-09-17T12:29:02.347619Z",
     "iopub.status.idle": "2021-09-17T12:29:11.932934Z",
     "shell.execute_reply": "2021-09-17T12:29:11.933423Z",
     "shell.execute_reply.started": "2021-09-17T11:55:58.228987Z"
    },
    "papermill": {
     "duration": 10.510542,
     "end_time": "2021-09-17T12:29:11.933621",
     "exception": false,
     "start_time": "2021-09-17T12:29:01.423079",
     "status": "completed"
    },
    "tags": []
   },
   "outputs": [
    {
     "data": {
      "text/plain": [
       "time                          0.00\n",
       "LP ID                         0.00\n",
       "pct_access                    0.00\n",
       "engagement_index              0.20\n",
       "district_id                   0.00\n",
       "URL                           0.00\n",
       "Product Name                  0.00\n",
       "Provider/Company Name         0.00\n",
       "Sector(s)                     0.04\n",
       "Primary Essential Function    0.04\n",
       "state                         0.00\n",
       "locale                        0.00\n",
       "pct_black/hispanic            0.00\n",
       "pct_free/reduced              0.15\n",
       "county_connections_ratio      0.08\n",
       "pp_total_raw                  0.32\n",
       "dtype: float64"
      ]
     },
     "execution_count": 15,
     "metadata": {},
     "output_type": "execute_result"
    }
   ],
   "source": [
    "\n",
    "round(df_master.isnull().sum()/len(df_master.index),2)"
   ]
  },
  {
   "cell_type": "code",
   "execution_count": 16,
   "id": "f1336980",
   "metadata": {
    "execution": {
     "iopub.execute_input": "2021-09-17T12:29:12.900549Z",
     "iopub.status.busy": "2021-09-17T12:29:12.899283Z",
     "iopub.status.idle": "2021-09-17T12:29:27.253770Z",
     "shell.execute_reply": "2021-09-17T12:29:27.253108Z",
     "shell.execute_reply.started": "2021-09-17T11:56:08.564090Z"
    },
    "papermill": {
     "duration": 15.274546,
     "end_time": "2021-09-17T12:29:27.253948",
     "exception": false,
     "start_time": "2021-09-17T12:29:11.979402",
     "status": "completed"
    },
    "tags": []
   },
   "outputs": [],
   "source": [
    "df_master.dropna(axis=0,inplace=True)"
   ]
  },
  {
   "cell_type": "code",
   "execution_count": 17,
   "id": "325952e5",
   "metadata": {
    "execution": {
     "iopub.execute_input": "2021-09-17T12:29:27.350664Z",
     "iopub.status.busy": "2021-09-17T12:29:27.349690Z",
     "iopub.status.idle": "2021-09-17T12:29:27.353134Z",
     "shell.execute_reply": "2021-09-17T12:29:27.352524Z",
     "shell.execute_reply.started": "2021-09-17T11:56:23.073966Z"
    },
    "papermill": {
     "duration": 0.0538,
     "end_time": "2021-09-17T12:29:27.353324",
     "exception": false,
     "start_time": "2021-09-17T12:29:27.299524",
     "status": "completed"
    },
    "tags": []
   },
   "outputs": [],
   "source": [
    "# Taking copy of cleaned data\n",
    "df_master_clean = df_master[:]"
   ]
  },
  {
   "cell_type": "markdown",
   "id": "e3c8dd3f",
   "metadata": {
    "papermill": {
     "duration": 0.044582,
     "end_time": "2021-09-17T12:29:27.443218",
     "exception": false,
     "start_time": "2021-09-17T12:29:27.398636",
     "status": "completed"
    },
    "tags": []
   },
   "source": [
    "## Data formating"
   ]
  },
  {
   "cell_type": "code",
   "execution_count": 18,
   "id": "43c775c9",
   "metadata": {
    "execution": {
     "iopub.execute_input": "2021-09-17T12:29:27.540804Z",
     "iopub.status.busy": "2021-09-17T12:29:27.540079Z",
     "iopub.status.idle": "2021-09-17T12:29:40.201504Z",
     "shell.execute_reply": "2021-09-17T12:29:40.200522Z",
     "shell.execute_reply.started": "2021-09-17T11:56:23.080307Z"
    },
    "papermill": {
     "duration": 12.71153,
     "end_time": "2021-09-17T12:29:40.201919",
     "exception": false,
     "start_time": "2021-09-17T12:29:27.490389",
     "status": "completed"
    },
    "tags": []
   },
   "outputs": [
    {
     "name": "stdout",
     "output_type": "stream",
     "text": [
      "before: ['[0, 0.2[' '[0.2, 0.4[' '[0.4, 0.6[' '[0.8, 1[' '[0.6, 0.8[']\n",
      "after: [0.2 0.4 0.6 1.  0.8]\n",
      "before: ['[0.2, 0.4[' '[0, 0.2[' '[0.6, 0.8[' '[0.8, 1[' '[0.4, 0.6[']\n",
      "after: [0.4 0.2 0.8 1.  0.6]\n"
     ]
    }
   ],
   "source": [
    "print('before:' ,df_master_clean['pct_black/hispanic'].unique())\n",
    "def clean_x(x):\n",
    "    x1= x.split(',')[1][:4].strip()\n",
    "    if x1 == '1[':\n",
    "        x1 = x1[:1]\n",
    "    return float(x1)\n",
    "    \n",
    "df_master_clean['pct_black/hispanic'] = df_master_clean['pct_black/hispanic'].apply(clean_x)\n",
    "print('after:' ,df_master_clean['pct_black/hispanic'].unique())\n",
    "\n",
    "print('before:' ,df_master_clean['pct_free/reduced'].unique())\n",
    "df_master_clean['pct_free/reduced'] = df_master_clean['pct_free/reduced'].apply(clean_x)\n",
    "print('after:' ,df_master_clean['pct_free/reduced'].unique())"
   ]
  },
  {
   "cell_type": "code",
   "execution_count": 19,
   "id": "ab4e5054",
   "metadata": {
    "execution": {
     "iopub.execute_input": "2021-09-17T12:29:40.307564Z",
     "iopub.status.busy": "2021-09-17T12:29:40.306750Z",
     "iopub.status.idle": "2021-09-17T12:29:41.356114Z",
     "shell.execute_reply": "2021-09-17T12:29:41.355484Z",
     "shell.execute_reply.started": "2021-09-17T11:56:33.060996Z"
    },
    "papermill": {
     "duration": 1.105265,
     "end_time": "2021-09-17T12:29:41.356283",
     "exception": false,
     "start_time": "2021-09-17T12:29:40.251018",
     "status": "completed"
    },
    "tags": []
   },
   "outputs": [],
   "source": [
    "df_master_clean.drop(['county_connections_ratio','URL'],axis=1,inplace=True)"
   ]
  },
  {
   "cell_type": "code",
   "execution_count": 20,
   "id": "3959a4ad",
   "metadata": {
    "execution": {
     "iopub.execute_input": "2021-09-17T12:29:41.675351Z",
     "iopub.status.busy": "2021-09-17T12:29:41.674587Z",
     "iopub.status.idle": "2021-09-17T12:29:46.864489Z",
     "shell.execute_reply": "2021-09-17T12:29:46.865518Z",
     "shell.execute_reply.started": "2021-09-17T11:56:33.571767Z"
    },
    "papermill": {
     "duration": 5.461059,
     "end_time": "2021-09-17T12:29:46.865908",
     "exception": false,
     "start_time": "2021-09-17T12:29:41.404849",
     "status": "completed"
    },
    "tags": []
   },
   "outputs": [
    {
     "name": "stdout",
     "output_type": "stream",
     "text": [
      "before: ['[6000, 8000[' '[12000, 14000[' '[8000, 10000[' '[10000, 12000['\n",
      " '[14000, 16000[' '[4000, 6000[' '[16000, 18000[' '[18000, 20000['\n",
      " '[32000, 34000[' '[22000, 24000[']\n",
      "after: [ 8000 14000 10000 12000 16000  6000 18000 20000 34000 24000]\n"
     ]
    }
   ],
   "source": [
    "print('before:' ,df_master_clean['pp_total_raw'].unique())\n",
    "df_master_clean['pp_total_raw'] = df_master_clean['pp_total_raw'].apply(lambda x: int(x[1:-1].split(',')[1].strip()))\n",
    "print('after:' ,df_master_clean['pp_total_raw'].unique())"
   ]
  },
  {
   "cell_type": "code",
   "execution_count": 21,
   "id": "c244ce07",
   "metadata": {
    "execution": {
     "iopub.execute_input": "2021-09-17T12:29:46.964550Z",
     "iopub.status.busy": "2021-09-17T12:29:46.963488Z",
     "iopub.status.idle": "2021-09-17T12:29:47.014125Z",
     "shell.execute_reply": "2021-09-17T12:29:47.014728Z",
     "shell.execute_reply.started": "2021-09-17T11:56:38.836166Z"
    },
    "papermill": {
     "duration": 0.101188,
     "end_time": "2021-09-17T12:29:47.014915",
     "exception": false,
     "start_time": "2021-09-17T12:29:46.913727",
     "status": "completed"
    },
    "tags": []
   },
   "outputs": [],
   "source": [
    "df_master_clean['pp_total_raw'] = df_master_clean['pp_total_raw'].astype('int')"
   ]
  },
  {
   "cell_type": "code",
   "execution_count": 22,
   "id": "b770cc9c",
   "metadata": {
    "execution": {
     "iopub.execute_input": "2021-09-17T12:29:47.112377Z",
     "iopub.status.busy": "2021-09-17T12:29:47.111378Z",
     "iopub.status.idle": "2021-09-17T12:29:47.135288Z",
     "shell.execute_reply": "2021-09-17T12:29:47.135881Z",
     "shell.execute_reply.started": "2021-09-17T11:56:38.874822Z"
    },
    "papermill": {
     "duration": 0.074093,
     "end_time": "2021-09-17T12:29:47.136057",
     "exception": false,
     "start_time": "2021-09-17T12:29:47.061964",
     "status": "completed"
    },
    "tags": []
   },
   "outputs": [
    {
     "data": {
      "text/html": [
       "<div>\n",
       "<style scoped>\n",
       "    .dataframe tbody tr th:only-of-type {\n",
       "        vertical-align: middle;\n",
       "    }\n",
       "\n",
       "    .dataframe tbody tr th {\n",
       "        vertical-align: top;\n",
       "    }\n",
       "\n",
       "    .dataframe thead th {\n",
       "        text-align: right;\n",
       "    }\n",
       "</style>\n",
       "<table border=\"1\" class=\"dataframe\">\n",
       "  <thead>\n",
       "    <tr style=\"text-align: right;\">\n",
       "      <th></th>\n",
       "      <th>time</th>\n",
       "      <th>LP ID</th>\n",
       "      <th>pct_access</th>\n",
       "      <th>engagement_index</th>\n",
       "      <th>district_id</th>\n",
       "      <th>Product Name</th>\n",
       "      <th>Provider/Company Name</th>\n",
       "      <th>Sector(s)</th>\n",
       "      <th>Primary Essential Function</th>\n",
       "      <th>state</th>\n",
       "      <th>locale</th>\n",
       "      <th>pct_black/hispanic</th>\n",
       "      <th>pct_free/reduced</th>\n",
       "      <th>pp_total_raw</th>\n",
       "    </tr>\n",
       "  </thead>\n",
       "  <tbody>\n",
       "    <tr>\n",
       "      <th>57732</th>\n",
       "      <td>2020-01-02</td>\n",
       "      <td>92844.0</td>\n",
       "      <td>0.01</td>\n",
       "      <td>0.13</td>\n",
       "      <td>9812</td>\n",
       "      <td>Typing.com</td>\n",
       "      <td>Teaching.com</td>\n",
       "      <td>PreK-12; Higher Ed; Corporate</td>\n",
       "      <td>LC - Digital Learning Platforms</td>\n",
       "      <td>Utah</td>\n",
       "      <td>Suburb</td>\n",
       "      <td>0.2</td>\n",
       "      <td>0.4</td>\n",
       "      <td>8000</td>\n",
       "    </tr>\n",
       "    <tr>\n",
       "      <th>57733</th>\n",
       "      <td>2020-01-03</td>\n",
       "      <td>92844.0</td>\n",
       "      <td>0.01</td>\n",
       "      <td>0.21</td>\n",
       "      <td>9812</td>\n",
       "      <td>Typing.com</td>\n",
       "      <td>Teaching.com</td>\n",
       "      <td>PreK-12; Higher Ed; Corporate</td>\n",
       "      <td>LC - Digital Learning Platforms</td>\n",
       "      <td>Utah</td>\n",
       "      <td>Suburb</td>\n",
       "      <td>0.2</td>\n",
       "      <td>0.4</td>\n",
       "      <td>8000</td>\n",
       "    </tr>\n",
       "    <tr>\n",
       "      <th>57734</th>\n",
       "      <td>2020-01-05</td>\n",
       "      <td>92844.0</td>\n",
       "      <td>0.01</td>\n",
       "      <td>0.08</td>\n",
       "      <td>9812</td>\n",
       "      <td>Typing.com</td>\n",
       "      <td>Teaching.com</td>\n",
       "      <td>PreK-12; Higher Ed; Corporate</td>\n",
       "      <td>LC - Digital Learning Platforms</td>\n",
       "      <td>Utah</td>\n",
       "      <td>Suburb</td>\n",
       "      <td>0.2</td>\n",
       "      <td>0.4</td>\n",
       "      <td>8000</td>\n",
       "    </tr>\n",
       "    <tr>\n",
       "      <th>57735</th>\n",
       "      <td>2020-01-06</td>\n",
       "      <td>92844.0</td>\n",
       "      <td>0.02</td>\n",
       "      <td>0.21</td>\n",
       "      <td>9812</td>\n",
       "      <td>Typing.com</td>\n",
       "      <td>Teaching.com</td>\n",
       "      <td>PreK-12; Higher Ed; Corporate</td>\n",
       "      <td>LC - Digital Learning Platforms</td>\n",
       "      <td>Utah</td>\n",
       "      <td>Suburb</td>\n",
       "      <td>0.2</td>\n",
       "      <td>0.4</td>\n",
       "      <td>8000</td>\n",
       "    </tr>\n",
       "    <tr>\n",
       "      <th>57736</th>\n",
       "      <td>2020-01-07</td>\n",
       "      <td>92844.0</td>\n",
       "      <td>0.01</td>\n",
       "      <td>0.13</td>\n",
       "      <td>9812</td>\n",
       "      <td>Typing.com</td>\n",
       "      <td>Teaching.com</td>\n",
       "      <td>PreK-12; Higher Ed; Corporate</td>\n",
       "      <td>LC - Digital Learning Platforms</td>\n",
       "      <td>Utah</td>\n",
       "      <td>Suburb</td>\n",
       "      <td>0.2</td>\n",
       "      <td>0.4</td>\n",
       "      <td>8000</td>\n",
       "    </tr>\n",
       "  </tbody>\n",
       "</table>\n",
       "</div>"
      ],
      "text/plain": [
       "             time    LP ID  pct_access  engagement_index  district_id  \\\n",
       "57732  2020-01-02  92844.0        0.01              0.13         9812   \n",
       "57733  2020-01-03  92844.0        0.01              0.21         9812   \n",
       "57734  2020-01-05  92844.0        0.01              0.08         9812   \n",
       "57735  2020-01-06  92844.0        0.02              0.21         9812   \n",
       "57736  2020-01-07  92844.0        0.01              0.13         9812   \n",
       "\n",
       "      Product Name Provider/Company Name                      Sector(s)  \\\n",
       "57732   Typing.com          Teaching.com  PreK-12; Higher Ed; Corporate   \n",
       "57733   Typing.com          Teaching.com  PreK-12; Higher Ed; Corporate   \n",
       "57734   Typing.com          Teaching.com  PreK-12; Higher Ed; Corporate   \n",
       "57735   Typing.com          Teaching.com  PreK-12; Higher Ed; Corporate   \n",
       "57736   Typing.com          Teaching.com  PreK-12; Higher Ed; Corporate   \n",
       "\n",
       "            Primary Essential Function state  locale  pct_black/hispanic  \\\n",
       "57732  LC - Digital Learning Platforms  Utah  Suburb                 0.2   \n",
       "57733  LC - Digital Learning Platforms  Utah  Suburb                 0.2   \n",
       "57734  LC - Digital Learning Platforms  Utah  Suburb                 0.2   \n",
       "57735  LC - Digital Learning Platforms  Utah  Suburb                 0.2   \n",
       "57736  LC - Digital Learning Platforms  Utah  Suburb                 0.2   \n",
       "\n",
       "       pct_free/reduced  pp_total_raw  \n",
       "57732               0.4          8000  \n",
       "57733               0.4          8000  \n",
       "57734               0.4          8000  \n",
       "57735               0.4          8000  \n",
       "57736               0.4          8000  "
      ]
     },
     "execution_count": 22,
     "metadata": {},
     "output_type": "execute_result"
    }
   ],
   "source": [
    "df_master_clean.head()"
   ]
  },
  {
   "cell_type": "code",
   "execution_count": 23,
   "id": "4d93dbc4",
   "metadata": {
    "execution": {
     "iopub.execute_input": "2021-09-17T12:29:47.234532Z",
     "iopub.status.busy": "2021-09-17T12:29:47.233516Z",
     "iopub.status.idle": "2021-09-17T12:29:49.761516Z",
     "shell.execute_reply": "2021-09-17T12:29:49.760906Z",
     "shell.execute_reply.started": "2021-09-17T11:56:38.901281Z"
    },
    "papermill": {
     "duration": 2.57812,
     "end_time": "2021-09-17T12:29:49.761708",
     "exception": false,
     "start_time": "2021-09-17T12:29:47.183588",
     "status": "completed"
    },
    "tags": []
   },
   "outputs": [
    {
     "data": {
      "text/plain": [
       "time                          0.0\n",
       "LP ID                         0.0\n",
       "pct_access                    0.0\n",
       "engagement_index              0.0\n",
       "district_id                   0.0\n",
       "Product Name                  0.0\n",
       "Provider/Company Name         0.0\n",
       "Sector(s)                     0.0\n",
       "Primary Essential Function    0.0\n",
       "state                         0.0\n",
       "locale                        0.0\n",
       "pct_black/hispanic            0.0\n",
       "pct_free/reduced              0.0\n",
       "pp_total_raw                  0.0\n",
       "dtype: float64"
      ]
     },
     "execution_count": 23,
     "metadata": {},
     "output_type": "execute_result"
    }
   ],
   "source": [
    "round(df_master_clean.isnull().sum()/len(df_master_clean.index),2)"
   ]
  },
  {
   "cell_type": "code",
   "execution_count": 24,
   "id": "a41ff4ea",
   "metadata": {
    "execution": {
     "iopub.execute_input": "2021-09-17T12:29:50.095586Z",
     "iopub.status.busy": "2021-09-17T12:29:50.094575Z",
     "iopub.status.idle": "2021-09-17T12:30:15.296093Z",
     "shell.execute_reply": "2021-09-17T12:30:15.295479Z",
     "shell.execute_reply.started": "2021-09-17T11:56:41.399567Z"
    },
    "papermill": {
     "duration": 25.486191,
     "end_time": "2021-09-17T12:30:15.296275",
     "exception": false,
     "start_time": "2021-09-17T12:29:49.810084",
     "status": "completed"
    },
    "tags": []
   },
   "outputs": [],
   "source": [
    "df_master_clean['time'] = pd.to_datetime(df_master_clean['time'], format='%Y-%m-%d')\n",
    "df_master_clean['month'] = df_master_clean['time'].apply(lambda x: x.month)\n",
    "df_master_clean['month'] = df_master_clean['month'].astype('category')\n",
    "df_master_clean['month'] = df_master_clean['month'].cat.rename_categories(['Jan','Feb','Mar','Apr','May',\n",
    "                                                'Jun','Jul','Aug','Sep','Oct','Nov','Dec'])"
   ]
  },
  {
   "cell_type": "markdown",
   "id": "186bdbbf",
   "metadata": {
    "papermill": {
     "duration": 0.047801,
     "end_time": "2021-09-17T12:30:15.392524",
     "exception": false,
     "start_time": "2021-09-17T12:30:15.344723",
     "status": "completed"
    },
    "tags": []
   },
   "source": [
    "## Data Analysing"
   ]
  },
  {
   "cell_type": "code",
   "execution_count": 25,
   "id": "a2d44efd",
   "metadata": {
    "execution": {
     "iopub.execute_input": "2021-09-17T12:30:15.498657Z",
     "iopub.status.busy": "2021-09-17T12:30:15.496817Z",
     "iopub.status.idle": "2021-09-17T12:30:16.876455Z",
     "shell.execute_reply": "2021-09-17T12:30:16.875898Z",
     "shell.execute_reply.started": "2021-09-17T11:57:04.991711Z"
    },
    "papermill": {
     "duration": 1.435952,
     "end_time": "2021-09-17T12:30:16.876637",
     "exception": false,
     "start_time": "2021-09-17T12:30:15.440685",
     "status": "completed"
    },
    "tags": []
   },
   "outputs": [
    {
     "data": {
      "text/plain": [
       "LP ID    Product Name  district_id  Provider/Company Name\n",
       "99916.0  Google Drive  9899         Google LLC               366\n",
       "64948.0  Prodigy       2779         SMARTeacher Inc.         366\n",
       "                       2393         SMARTeacher Inc.         366\n",
       "64947.0  Desmos        8784         Desmos                   366\n",
       "64838.0  Starfall      6919         Starfall Education       366\n",
       "                                                            ... \n",
       "21917.0  Google Voice  4373         Google LLC                 1\n",
       "12803.0  SlideShare    5600         LinkedIn                   1\n",
       "95767.0  Hapara        5987         Hapara                     1\n",
       "21917.0  Google Voice  4683         Google LLC                 1\n",
       "91873.0  Breakout EDU  5600         Breakout, Inc              1\n",
       "Length: 28085, dtype: int64"
      ]
     },
     "execution_count": 25,
     "metadata": {},
     "output_type": "execute_result"
    }
   ],
   "source": [
    "df_master_clean.loc[:, ['LP ID', 'Product Name','district_id','Provider/Company Name']].value_counts()"
   ]
  },
  {
   "cell_type": "code",
   "execution_count": null,
   "id": "bd835cf6",
   "metadata": {
    "papermill": {
     "duration": 0.048053,
     "end_time": "2021-09-17T12:30:16.973302",
     "exception": false,
     "start_time": "2021-09-17T12:30:16.925249",
     "status": "completed"
    },
    "tags": []
   },
   "outputs": [],
   "source": []
  },
  {
   "cell_type": "markdown",
   "id": "118f958c",
   "metadata": {
    "papermill": {
     "duration": 0.047463,
     "end_time": "2021-09-17T12:30:17.068740",
     "exception": false,
     "start_time": "2021-09-17T12:30:17.021277",
     "status": "completed"
    },
    "tags": []
   },
   "source": [
    "## Demographic vs Engagement Analysis"
   ]
  },
  {
   "cell_type": "code",
   "execution_count": 26,
   "id": "249e23fd",
   "metadata": {
    "execution": {
     "iopub.execute_input": "2021-09-17T12:30:17.947424Z",
     "iopub.status.busy": "2021-09-17T12:30:17.946681Z",
     "iopub.status.idle": "2021-09-17T12:30:18.284372Z",
     "shell.execute_reply": "2021-09-17T12:30:18.283683Z",
     "shell.execute_reply.started": "2021-09-17T11:57:06.134751Z"
    },
    "papermill": {
     "duration": 1.167396,
     "end_time": "2021-09-17T12:30:18.284526",
     "exception": false,
     "start_time": "2021-09-17T12:30:17.117130",
     "status": "completed"
    },
    "tags": []
   },
   "outputs": [
    {
     "data": {
      "image/png": "[encoded data removed]",
      "text/plain": [
       "<Figure size 1152x360 with 1 Axes>"
      ]
     },
     "metadata": {
      "needs_background": "light"
     },
     "output_type": "display_data"
    },
    {
     "data": {
      "text/html": [
       "<div>\n",
       "<style scoped>\n",
       "    .dataframe tbody tr th:only-of-type {\n",
       "        vertical-align: middle;\n",
       "    }\n",
       "\n",
       "    .dataframe tbody tr th {\n",
       "        vertical-align: top;\n",
       "    }\n",
       "\n",
       "    .dataframe thead th {\n",
       "        text-align: right;\n",
       "    }\n",
       "</style>\n",
       "<table border=\"1\" class=\"dataframe\">\n",
       "  <thead>\n",
       "    <tr style=\"text-align: right;\">\n",
       "      <th></th>\n",
       "      <th>0</th>\n",
       "      <th>1</th>\n",
       "      <th>2</th>\n",
       "      <th>3</th>\n",
       "      <th>4</th>\n",
       "      <th>5</th>\n",
       "      <th>6</th>\n",
       "      <th>7</th>\n",
       "      <th>8</th>\n",
       "      <th>9</th>\n",
       "      <th>10</th>\n",
       "      <th>11</th>\n",
       "      <th>12</th>\n",
       "      <th>13</th>\n",
       "    </tr>\n",
       "  </thead>\n",
       "  <tbody>\n",
       "    <tr>\n",
       "      <th>index</th>\n",
       "      <td>Utah</td>\n",
       "      <td>Illinois</td>\n",
       "      <td>Missouri</td>\n",
       "      <td>Washington</td>\n",
       "      <td>Indiana</td>\n",
       "      <td>North Carolina</td>\n",
       "      <td>Virginia</td>\n",
       "      <td>New York</td>\n",
       "      <td>New Jersey</td>\n",
       "      <td>Wisconsin</td>\n",
       "      <td>Florida</td>\n",
       "      <td>Michigan</td>\n",
       "      <td>Texas</td>\n",
       "      <td>Minnesota</td>\n",
       "    </tr>\n",
       "    <tr>\n",
       "      <th>state</th>\n",
       "      <td>1020841</td>\n",
       "      <td>914808</td>\n",
       "      <td>292821</td>\n",
       "      <td>285007</td>\n",
       "      <td>274085</td>\n",
       "      <td>172201</td>\n",
       "      <td>169133</td>\n",
       "      <td>92569</td>\n",
       "      <td>86720</td>\n",
       "      <td>84553</td>\n",
       "      <td>80858</td>\n",
       "      <td>78600</td>\n",
       "      <td>63725</td>\n",
       "      <td>13103</td>\n",
       "    </tr>\n",
       "  </tbody>\n",
       "</table>\n",
       "</div>"
      ],
      "text/plain": [
       "            0         1         2           3        4               5   \\\n",
       "index     Utah  Illinois  Missouri  Washington  Indiana  North Carolina   \n",
       "state  1020841    914808    292821      285007   274085          172201   \n",
       "\n",
       "             6         7           8          9        10        11     12  \\\n",
       "index  Virginia  New York  New Jersey  Wisconsin  Florida  Michigan  Texas   \n",
       "state    169133     92569       86720      84553    80858     78600  63725   \n",
       "\n",
       "              13  \n",
       "index  Minnesota  \n",
       "state      13103  "
      ]
     },
     "execution_count": 26,
     "metadata": {},
     "output_type": "execute_result"
    }
   ],
   "source": [
    "state_df = df_master_clean['state'].value_counts()\n",
    "state_df = state_df.to_frame()\n",
    "state_df.reset_index(level=0,inplace=True)\n",
    "plt.figure(figsize=(16,5))\n",
    "ax = sns.barplot(y='state', x='index', data=state_df)\n",
    "plt.xlabel('State')\n",
    "plt.ylabel('Count')\n",
    "plt.title('State Analysis')\n",
    "ax.grid(True)\n",
    "\n",
    "\n",
    "plt.show()\n",
    "state_df.T"
   ]
  },
  {
   "cell_type": "code",
   "execution_count": 27,
   "id": "4484785f",
   "metadata": {
    "execution": {
     "iopub.execute_input": "2021-09-17T12:30:19.165723Z",
     "iopub.status.busy": "2021-09-17T12:30:19.165044Z",
     "iopub.status.idle": "2021-09-17T12:30:19.326904Z",
     "shell.execute_reply": "2021-09-17T12:30:19.327414Z",
     "shell.execute_reply.started": "2021-09-17T11:57:07.253689Z"
    },
    "papermill": {
     "duration": 0.993053,
     "end_time": "2021-09-17T12:30:19.327591",
     "exception": false,
     "start_time": "2021-09-17T12:30:18.334538",
     "status": "completed"
    },
    "tags": []
   },
   "outputs": [
    {
     "data": {
      "image/png": "[encoded data removed]",
      "text/plain": [
       "<Figure size 720x576 with 1 Axes>"
      ]
     },
     "metadata": {
      "needs_background": "light"
     },
     "output_type": "display_data"
    },
    {
     "data": {
      "text/html": [
       "<div>\n",
       "<style scoped>\n",
       "    .dataframe tbody tr th:only-of-type {\n",
       "        vertical-align: middle;\n",
       "    }\n",
       "\n",
       "    .dataframe tbody tr th {\n",
       "        vertical-align: top;\n",
       "    }\n",
       "\n",
       "    .dataframe thead th {\n",
       "        text-align: right;\n",
       "    }\n",
       "</style>\n",
       "<table border=\"1\" class=\"dataframe\">\n",
       "  <thead>\n",
       "    <tr style=\"text-align: right;\">\n",
       "      <th></th>\n",
       "      <th>index</th>\n",
       "      <th>locale</th>\n",
       "    </tr>\n",
       "  </thead>\n",
       "  <tbody>\n",
       "    <tr>\n",
       "      <th>0</th>\n",
       "      <td>Suburb</td>\n",
       "      <td>2177850</td>\n",
       "    </tr>\n",
       "    <tr>\n",
       "      <th>1</th>\n",
       "      <td>Rural</td>\n",
       "      <td>569848</td>\n",
       "    </tr>\n",
       "    <tr>\n",
       "      <th>2</th>\n",
       "      <td>City</td>\n",
       "      <td>561041</td>\n",
       "    </tr>\n",
       "    <tr>\n",
       "      <th>3</th>\n",
       "      <td>Town</td>\n",
       "      <td>320285</td>\n",
       "    </tr>\n",
       "  </tbody>\n",
       "</table>\n",
       "</div>"
      ],
      "text/plain": [
       "    index   locale\n",
       "0  Suburb  2177850\n",
       "1   Rural   569848\n",
       "2    City   561041\n",
       "3    Town   320285"
      ]
     },
     "execution_count": 27,
     "metadata": {},
     "output_type": "execute_result"
    }
   ],
   "source": [
    "locale_df = df_master_clean['locale'].value_counts()\n",
    "locale_df = locale_df.to_frame()\n",
    "locale_df.reset_index(level=0,inplace=True)\n",
    "plt.figure(figsize=(10,8))\n",
    "ax = sns.barplot(y='locale', x='index', data=locale_df)\n",
    "plt.xlabel('Locale')\n",
    "plt.ylabel('Count')\n",
    "plt.title('Locale Analysis')\n",
    "ax.grid(True)\n",
    "plt.show()\n",
    "locale_df"
   ]
  },
  {
   "cell_type": "code",
   "execution_count": 28,
   "id": "1bf329e2",
   "metadata": {
    "execution": {
     "iopub.execute_input": "2021-09-17T12:30:19.437821Z",
     "iopub.status.busy": "2021-09-17T12:30:19.437120Z",
     "iopub.status.idle": "2021-09-17T12:30:21.314562Z",
     "shell.execute_reply": "2021-09-17T12:30:21.315073Z",
     "shell.execute_reply.started": "2021-09-17T11:57:08.195265Z"
    },
    "papermill": {
     "duration": 1.936726,
     "end_time": "2021-09-17T12:30:21.315283",
     "exception": false,
     "start_time": "2021-09-17T12:30:19.378557",
     "status": "completed"
    },
    "tags": []
   },
   "outputs": [
    {
     "data": {
      "image/png": "[encoded data removed]",
      "text/plain": [
       "<Figure size 1440x432 with 1 Axes>"
      ]
     },
     "metadata": {
      "needs_background": "light"
     },
     "output_type": "display_data"
    },
    {
     "data": {
      "text/html": [
       "<div>\n",
       "<style scoped>\n",
       "    .dataframe tbody tr th:only-of-type {\n",
       "        vertical-align: middle;\n",
       "    }\n",
       "\n",
       "    .dataframe tbody tr th {\n",
       "        vertical-align: top;\n",
       "    }\n",
       "\n",
       "    .dataframe thead th {\n",
       "        text-align: right;\n",
       "    }\n",
       "</style>\n",
       "<table border=\"1\" class=\"dataframe\">\n",
       "  <thead>\n",
       "    <tr style=\"text-align: right;\">\n",
       "      <th>state</th>\n",
       "      <th>Florida</th>\n",
       "      <th>Illinois</th>\n",
       "      <th>Indiana</th>\n",
       "      <th>Michigan</th>\n",
       "      <th>Minnesota</th>\n",
       "      <th>Missouri</th>\n",
       "      <th>New Jersey</th>\n",
       "      <th>New York</th>\n",
       "      <th>North Carolina</th>\n",
       "      <th>Texas</th>\n",
       "      <th>Utah</th>\n",
       "      <th>Virginia</th>\n",
       "      <th>Washington</th>\n",
       "      <th>Wisconsin</th>\n",
       "    </tr>\n",
       "    <tr>\n",
       "      <th>locale</th>\n",
       "      <th></th>\n",
       "      <th></th>\n",
       "      <th></th>\n",
       "      <th></th>\n",
       "      <th></th>\n",
       "      <th></th>\n",
       "      <th></th>\n",
       "      <th></th>\n",
       "      <th></th>\n",
       "      <th></th>\n",
       "      <th></th>\n",
       "      <th></th>\n",
       "      <th></th>\n",
       "      <th></th>\n",
       "    </tr>\n",
       "  </thead>\n",
       "  <tbody>\n",
       "    <tr>\n",
       "      <th>City</th>\n",
       "      <td>NaN</td>\n",
       "      <td>NaN</td>\n",
       "      <td>2.262898e+07</td>\n",
       "      <td>NaN</td>\n",
       "      <td>NaN</td>\n",
       "      <td>9.742050e+06</td>\n",
       "      <td>NaN</td>\n",
       "      <td>NaN</td>\n",
       "      <td>1.993546e+06</td>\n",
       "      <td>9067107.88</td>\n",
       "      <td>2.198581e+07</td>\n",
       "      <td>NaN</td>\n",
       "      <td>2.701909e+07</td>\n",
       "      <td>NaN</td>\n",
       "    </tr>\n",
       "    <tr>\n",
       "      <th>Rural</th>\n",
       "      <td>NaN</td>\n",
       "      <td>5.522310e+07</td>\n",
       "      <td>4.602325e+07</td>\n",
       "      <td>NaN</td>\n",
       "      <td>NaN</td>\n",
       "      <td>NaN</td>\n",
       "      <td>NaN</td>\n",
       "      <td>4.339792e+07</td>\n",
       "      <td>1.089874e+07</td>\n",
       "      <td>NaN</td>\n",
       "      <td>1.162981e+07</td>\n",
       "      <td>1.963149e+07</td>\n",
       "      <td>NaN</td>\n",
       "      <td>NaN</td>\n",
       "    </tr>\n",
       "    <tr>\n",
       "      <th>Suburb</th>\n",
       "      <td>1.085396e+07</td>\n",
       "      <td>2.473355e+08</td>\n",
       "      <td>1.531698e+06</td>\n",
       "      <td>11923068.03</td>\n",
       "      <td>2697167.11</td>\n",
       "      <td>3.494273e+07</td>\n",
       "      <td>2.014256e+07</td>\n",
       "      <td>5.044404e+06</td>\n",
       "      <td>1.027674e+07</td>\n",
       "      <td>1040697.16</td>\n",
       "      <td>1.234212e+08</td>\n",
       "      <td>1.315972e+07</td>\n",
       "      <td>1.344973e+07</td>\n",
       "      <td>2.986551e+07</td>\n",
       "    </tr>\n",
       "    <tr>\n",
       "      <th>Town</th>\n",
       "      <td>NaN</td>\n",
       "      <td>6.793072e+05</td>\n",
       "      <td>2.019377e+07</td>\n",
       "      <td>NaN</td>\n",
       "      <td>NaN</td>\n",
       "      <td>4.003796e+06</td>\n",
       "      <td>NaN</td>\n",
       "      <td>NaN</td>\n",
       "      <td>NaN</td>\n",
       "      <td>NaN</td>\n",
       "      <td>4.720618e+07</td>\n",
       "      <td>NaN</td>\n",
       "      <td>NaN</td>\n",
       "      <td>NaN</td>\n",
       "    </tr>\n",
       "  </tbody>\n",
       "</table>\n",
       "</div>"
      ],
      "text/plain": [
       "state        Florida      Illinois       Indiana     Michigan   Minnesota  \\\n",
       "locale                                                                      \n",
       "City             NaN           NaN  2.262898e+07          NaN         NaN   \n",
       "Rural            NaN  5.522310e+07  4.602325e+07          NaN         NaN   \n",
       "Suburb  1.085396e+07  2.473355e+08  1.531698e+06  11923068.03  2697167.11   \n",
       "Town             NaN  6.793072e+05  2.019377e+07          NaN         NaN   \n",
       "\n",
       "state       Missouri    New Jersey      New York  North Carolina       Texas  \\\n",
       "locale                                                                         \n",
       "City    9.742050e+06           NaN           NaN    1.993546e+06  9067107.88   \n",
       "Rural            NaN           NaN  4.339792e+07    1.089874e+07         NaN   \n",
       "Suburb  3.494273e+07  2.014256e+07  5.044404e+06    1.027674e+07  1040697.16   \n",
       "Town    4.003796e+06           NaN           NaN             NaN         NaN   \n",
       "\n",
       "state           Utah      Virginia    Washington     Wisconsin  \n",
       "locale                                                          \n",
       "City    2.198581e+07           NaN  2.701909e+07           NaN  \n",
       "Rural   1.162981e+07  1.963149e+07           NaN           NaN  \n",
       "Suburb  1.234212e+08  1.315972e+07  1.344973e+07  2.986551e+07  \n",
       "Town    4.720618e+07           NaN           NaN           NaN  "
      ]
     },
     "execution_count": 28,
     "metadata": {},
     "output_type": "execute_result"
    }
   ],
   "source": [
    "d1 = df_master_clean.pivot_table(values='engagement_index',\n",
    "                                            index='state',\n",
    "                                            columns='locale',\n",
    "                                            aggfunc='sum')\n",
    "\n",
    "ax = d1.plot.bar(figsize=(20, 6),logy=True).grid(True)\n",
    "plt.ylabel('Count')\n",
    "plt.xlabel('State and  Locale')\n",
    "plt.title(\"Engagement anlysis based on State with locale\")\n",
    "plt.show()\n",
    "d1.T"
   ]
  },
  {
   "cell_type": "code",
   "execution_count": 29,
   "id": "e1679cee",
   "metadata": {
    "execution": {
     "iopub.execute_input": "2021-09-17T12:30:21.428175Z",
     "iopub.status.busy": "2021-09-17T12:30:21.427336Z",
     "iopub.status.idle": "2021-09-17T12:30:22.354226Z",
     "shell.execute_reply": "2021-09-17T12:30:22.353592Z",
     "shell.execute_reply.started": "2021-09-17T11:57:09.985012Z"
    },
    "papermill": {
     "duration": 0.986598,
     "end_time": "2021-09-17T12:30:22.354395",
     "exception": false,
     "start_time": "2021-09-17T12:30:21.367797",
     "status": "completed"
    },
    "tags": []
   },
   "outputs": [
    {
     "data": {
      "image/png": "[encoded data removed]",
      "text/plain": [
       "<Figure size 1440x432 with 1 Axes>"
      ]
     },
     "metadata": {
      "needs_background": "light"
     },
     "output_type": "display_data"
    },
    {
     "data": {
      "text/html": [
       "<div>\n",
       "<style scoped>\n",
       "    .dataframe tbody tr th:only-of-type {\n",
       "        vertical-align: middle;\n",
       "    }\n",
       "\n",
       "    .dataframe tbody tr th {\n",
       "        vertical-align: top;\n",
       "    }\n",
       "\n",
       "    .dataframe thead th {\n",
       "        text-align: right;\n",
       "    }\n",
       "</style>\n",
       "<table border=\"1\" class=\"dataframe\">\n",
       "  <thead>\n",
       "    <tr style=\"text-align: right;\">\n",
       "      <th>state</th>\n",
       "      <th>Florida</th>\n",
       "      <th>Illinois</th>\n",
       "      <th>Indiana</th>\n",
       "      <th>Michigan</th>\n",
       "      <th>Minnesota</th>\n",
       "      <th>Missouri</th>\n",
       "      <th>New Jersey</th>\n",
       "      <th>New York</th>\n",
       "      <th>North Carolina</th>\n",
       "      <th>Texas</th>\n",
       "      <th>Utah</th>\n",
       "      <th>Virginia</th>\n",
       "      <th>Washington</th>\n",
       "      <th>Wisconsin</th>\n",
       "    </tr>\n",
       "  </thead>\n",
       "  <tbody>\n",
       "    <tr>\n",
       "      <th>engagement_index</th>\n",
       "      <td>1.085396e+07</td>\n",
       "      <td>3.032379e+08</td>\n",
       "      <td>9.037769e+07</td>\n",
       "      <td>11923068.03</td>\n",
       "      <td>2697167.11</td>\n",
       "      <td>4.868858e+07</td>\n",
       "      <td>2.014256e+07</td>\n",
       "      <td>4.844233e+07</td>\n",
       "      <td>2.316902e+07</td>\n",
       "      <td>1.010781e+07</td>\n",
       "      <td>2.042430e+08</td>\n",
       "      <td>3.279120e+07</td>\n",
       "      <td>4.046882e+07</td>\n",
       "      <td>2.986551e+07</td>\n",
       "    </tr>\n",
       "  </tbody>\n",
       "</table>\n",
       "</div>"
      ],
      "text/plain": [
       "state                  Florida      Illinois       Indiana     Michigan  \\\n",
       "engagement_index  1.085396e+07  3.032379e+08  9.037769e+07  11923068.03   \n",
       "\n",
       "state              Minnesota      Missouri    New Jersey      New York  \\\n",
       "engagement_index  2697167.11  4.868858e+07  2.014256e+07  4.844233e+07   \n",
       "\n",
       "state             North Carolina         Texas          Utah      Virginia  \\\n",
       "engagement_index    2.316902e+07  1.010781e+07  2.042430e+08  3.279120e+07   \n",
       "\n",
       "state               Washington     Wisconsin  \n",
       "engagement_index  4.046882e+07  2.986551e+07  "
      ]
     },
     "execution_count": 29,
     "metadata": {},
     "output_type": "execute_result"
    }
   ],
   "source": [
    "d0 = df_master_clean.pivot_table(values='engagement_index',\n",
    "                                            index='state',\n",
    "                                            aggfunc='sum')\n",
    "\n",
    "ax = d0.plot.bar(figsize=(20, 6),logy=True, color='g').grid(True)\n",
    "plt.xlabel('State')\n",
    "plt.ylabel('Count')\n",
    "plt.title('State Analysis vs engagement Index')\n",
    "plt.show()\n",
    "d0.T"
   ]
  },
  {
   "cell_type": "markdown",
   "id": "8b01edba",
   "metadata": {
    "papermill": {
     "duration": 0.054493,
     "end_time": "2021-09-17T12:30:22.463401",
     "exception": false,
     "start_time": "2021-09-17T12:30:22.408908",
     "status": "completed"
    },
    "tags": []
   },
   "source": [
    "### Observation:\n",
    "\n",
    "* Students of Utah , Illinois have highly enganged in digiital learning\n",
    "* Students of suburb have highly enganged in digiital learning"
   ]
  },
  {
   "cell_type": "markdown",
   "id": "b13597ac",
   "metadata": {
    "papermill": {
     "duration": 0.054349,
     "end_time": "2021-09-17T12:30:22.574396",
     "exception": false,
     "start_time": "2021-09-17T12:30:22.520047",
     "status": "completed"
    },
    "tags": []
   },
   "source": [
    "## Month vs Engagement Analysis"
   ]
  },
  {
   "cell_type": "code",
   "execution_count": 30,
   "id": "f7e42028",
   "metadata": {
    "execution": {
     "iopub.execute_input": "2021-09-17T12:30:22.722723Z",
     "iopub.status.busy": "2021-09-17T12:30:22.722020Z",
     "iopub.status.idle": "2021-09-17T12:30:23.624740Z",
     "shell.execute_reply": "2021-09-17T12:30:23.625258Z",
     "shell.execute_reply.started": "2021-09-17T11:57:10.943198Z"
    },
    "papermill": {
     "duration": 0.997317,
     "end_time": "2021-09-17T12:30:23.625449",
     "exception": false,
     "start_time": "2021-09-17T12:30:22.628132",
     "status": "completed"
    },
    "tags": []
   },
   "outputs": [
    {
     "data": {
      "image/png": "[encoded data removed]",
      "text/plain": [
       "<Figure size 1440x432 with 1 Axes>"
      ]
     },
     "metadata": {
      "needs_background": "light"
     },
     "output_type": "display_data"
    },
    {
     "data": {
      "image/png": "[encoded data removed]",
      "text/plain": [
       "<Figure size 1440x432 with 1 Axes>"
      ]
     },
     "metadata": {
      "needs_background": "light"
     },
     "output_type": "display_data"
    }
   ],
   "source": [
    "m1 = df_master_clean.pivot_table(values='engagement_index',\n",
    "                                            index='month',\n",
    "                                            aggfunc='sum')\n",
    "ax = m1.plot.bar(figsize=(20, 6),logy=True, color='r').grid(True)\n",
    "plt.xlabel('Months')\n",
    "plt.ylabel('Count')\n",
    "plt.title(\"Engagement vs Month analysis\")\n",
    "plt.show()\n",
    "# m1.T\n",
    "\n",
    "m2 = df_master_clean.pivot_table(values='pct_access',\n",
    "                                            index='month',\n",
    "                                            aggfunc='sum')\n",
    "ax = m2.plot.bar(figsize=(20, 6),logy=True, color='g').grid(True)\n",
    "plt.xlabel('Months')\n",
    "plt.ylabel('Count')\n",
    "plt.title(\"Percentage of students accessed product vs Month analysis\")\n",
    "plt.show()\n",
    "# m1.T"
   ]
  },
  {
   "cell_type": "markdown",
   "id": "b187e955",
   "metadata": {
    "papermill": {
     "duration": 0.056021,
     "end_time": "2021-09-17T12:30:23.737452",
     "exception": false,
     "start_time": "2021-09-17T12:30:23.681431",
     "status": "completed"
    },
    "tags": []
   },
   "source": [
    "## Product vs Engagement Analysis"
   ]
  },
  {
   "cell_type": "code",
   "execution_count": 31,
   "id": "a6e8d850",
   "metadata": {
    "execution": {
     "iopub.execute_input": "2021-09-17T12:30:23.854308Z",
     "iopub.status.busy": "2021-09-17T12:30:23.853299Z",
     "iopub.status.idle": "2021-09-17T12:30:24.922898Z",
     "shell.execute_reply": "2021-09-17T12:30:24.923447Z",
     "shell.execute_reply.started": "2021-09-17T11:57:11.960140Z"
    },
    "papermill": {
     "duration": 1.13025,
     "end_time": "2021-09-17T12:30:24.923643",
     "exception": false,
     "start_time": "2021-09-17T12:30:23.793393",
     "status": "completed"
    },
    "tags": []
   },
   "outputs": [
    {
     "data": {
      "image/png": "[encoded data removed]",
      "text/plain": [
       "<Figure size 1440x432 with 1 Axes>"
      ]
     },
     "metadata": {
      "needs_background": "light"
     },
     "output_type": "display_data"
    },
    {
     "data": {
      "text/html": [
       "<div>\n",
       "<style scoped>\n",
       "    .dataframe tbody tr th:only-of-type {\n",
       "        vertical-align: middle;\n",
       "    }\n",
       "\n",
       "    .dataframe tbody tr th {\n",
       "        vertical-align: top;\n",
       "    }\n",
       "\n",
       "    .dataframe thead th {\n",
       "        text-align: right;\n",
       "    }\n",
       "</style>\n",
       "<table border=\"1\" class=\"dataframe\">\n",
       "  <thead>\n",
       "    <tr style=\"text-align: right;\">\n",
       "      <th>Product Name</th>\n",
       "      <th>Google Docs</th>\n",
       "      <th>Google Classroom</th>\n",
       "      <th>Canvas</th>\n",
       "      <th>YouTube</th>\n",
       "      <th>Kahoot!</th>\n",
       "      <th>Meet</th>\n",
       "      <th>Google Drive</th>\n",
       "      <th>Google Forms</th>\n",
       "      <th>Schoology</th>\n",
       "      <th>Google Sheets</th>\n",
       "      <th>Clever</th>\n",
       "      <th>Zoom</th>\n",
       "      <th>Epic! - Unlimited Books for Kids</th>\n",
       "      <th>Google Sites</th>\n",
       "      <th>Lexia Core5 Reading</th>\n",
       "      <th>Quizlet</th>\n",
       "      <th>Seesaw : The Learning Journal</th>\n",
       "      <th>i-Ready</th>\n",
       "      <th>ALEKS</th>\n",
       "      <th>Flipgrid</th>\n",
       "    </tr>\n",
       "  </thead>\n",
       "  <tbody>\n",
       "    <tr>\n",
       "      <th>engagement_index</th>\n",
       "      <td>2.655783e+08</td>\n",
       "      <td>1.070313e+08</td>\n",
       "      <td>80826714.35</td>\n",
       "      <td>52105992.3</td>\n",
       "      <td>34165783.84</td>\n",
       "      <td>27784329.0</td>\n",
       "      <td>22218465.14</td>\n",
       "      <td>21452575.92</td>\n",
       "      <td>15017997.41</td>\n",
       "      <td>14382768.26</td>\n",
       "      <td>9731008.35</td>\n",
       "      <td>9036018.6</td>\n",
       "      <td>7848193.03</td>\n",
       "      <td>7846464.19</td>\n",
       "      <td>7497116.89</td>\n",
       "      <td>6824392.89</td>\n",
       "      <td>6371012.99</td>\n",
       "      <td>5477359.69</td>\n",
       "      <td>4622824.74</td>\n",
       "      <td>4570794.64</td>\n",
       "    </tr>\n",
       "  </tbody>\n",
       "</table>\n",
       "</div>"
      ],
      "text/plain": [
       "Product Name       Google Docs  Google Classroom       Canvas     YouTube  \\\n",
       "engagement_index  2.655783e+08      1.070313e+08  80826714.35  52105992.3   \n",
       "\n",
       "Product Name          Kahoot!        Meet  Google Drive  Google Forms  \\\n",
       "engagement_index  34165783.84  27784329.0   22218465.14   21452575.92   \n",
       "\n",
       "Product Name        Schoology  Google Sheets      Clever       Zoom  \\\n",
       "engagement_index  15017997.41    14382768.26  9731008.35  9036018.6   \n",
       "\n",
       "Product Name      Epic! - Unlimited Books for Kids  Google Sites  \\\n",
       "engagement_index                        7848193.03    7846464.19   \n",
       "\n",
       "Product Name      Lexia Core5 Reading     Quizlet  \\\n",
       "engagement_index           7497116.89  6824392.89   \n",
       "\n",
       "Product Name      Seesaw : The Learning Journal     i-Ready       ALEKS  \\\n",
       "engagement_index                     6371012.99  5477359.69  4622824.74   \n",
       "\n",
       "Product Name        Flipgrid  \n",
       "engagement_index  4570794.64  "
      ]
     },
     "execution_count": 31,
     "metadata": {},
     "output_type": "execute_result"
    }
   ],
   "source": [
    "d2 = df_master_clean.pivot_table(values='engagement_index',\n",
    "                                            index='Product Name',\n",
    "                                            aggfunc='sum')\n",
    "d2_sorted = d2.sort_values(by='engagement_index',ascending=False).head(20)\n",
    "\n",
    "ax = d2_sorted.plot.bar(figsize=(20, 6),logy=True).grid(True)\n",
    "plt.xlabel('Products')\n",
    "plt.ylabel('Count')\n",
    "plt.title(\"Product vs Engagement analysis\")\n",
    "plt.show()\n",
    "d2_sorted.T"
   ]
  },
  {
   "cell_type": "markdown",
   "id": "6762d909",
   "metadata": {
    "papermill": {
     "duration": 0.058777,
     "end_time": "2021-09-17T12:30:25.040933",
     "exception": false,
     "start_time": "2021-09-17T12:30:24.982156",
     "status": "completed"
    },
    "tags": []
   },
   "source": [
    "## Provider Analysis"
   ]
  },
  {
   "cell_type": "code",
   "execution_count": 32,
   "id": "261d29db",
   "metadata": {
    "execution": {
     "iopub.execute_input": "2021-09-17T12:30:25.164525Z",
     "iopub.status.busy": "2021-09-17T12:30:25.163518Z",
     "iopub.status.idle": "2021-09-17T12:30:26.308175Z",
     "shell.execute_reply": "2021-09-17T12:30:26.307626Z",
     "shell.execute_reply.started": "2021-09-17T11:57:13.023178Z"
    },
    "papermill": {
     "duration": 1.208054,
     "end_time": "2021-09-17T12:30:26.308346",
     "exception": false,
     "start_time": "2021-09-17T12:30:25.100292",
     "status": "completed"
    },
    "tags": []
   },
   "outputs": [
    {
     "data": {
      "image/png": "[encoded data removed]",
      "text/plain": [
       "<Figure size 720x864 with 1 Axes>"
      ]
     },
     "metadata": {
      "needs_background": "light"
     },
     "output_type": "display_data"
    }
   ],
   "source": [
    "comp_name_df = df_master_clean['Provider/Company Name'].value_counts()\n",
    "comp_name_df = comp_name_df.to_frame()\n",
    "comp_name_df.reset_index(level=0,inplace=True)\n",
    "comp_name_df = comp_name_df.head(20)\n",
    "\n",
    "plt.figure(figsize=(10,12))\n",
    "ax = sns.barplot(x='Provider/Company Name', y='index', data=comp_name_df)\n",
    "plt.xlabel('Count')\n",
    "plt.ylabel('Companies')\n",
    "plt.title('Top Companies vs Engangement analysis')\n",
    "ax.grid(True)\n",
    "plt.show()\n",
    "# sector_df"
   ]
  },
  {
   "cell_type": "markdown",
   "id": "9a6cb757",
   "metadata": {
    "papermill": {
     "duration": 0.060342,
     "end_time": "2021-09-17T12:30:26.428760",
     "exception": false,
     "start_time": "2021-09-17T12:30:26.368418",
     "status": "completed"
    },
    "tags": []
   },
   "source": [
    "### Sector Analysis"
   ]
  },
  {
   "cell_type": "code",
   "execution_count": 33,
   "id": "bf8db552",
   "metadata": {
    "execution": {
     "iopub.execute_input": "2021-09-17T12:30:27.333486Z",
     "iopub.status.busy": "2021-09-17T12:30:27.332287Z",
     "iopub.status.idle": "2021-09-17T12:30:27.791286Z",
     "shell.execute_reply": "2021-09-17T12:30:27.791754Z",
     "shell.execute_reply.started": "2021-09-17T11:57:14.183288Z"
    },
    "papermill": {
     "duration": 1.303142,
     "end_time": "2021-09-17T12:30:27.791956",
     "exception": false,
     "start_time": "2021-09-17T12:30:26.488814",
     "status": "completed"
    },
    "tags": []
   },
   "outputs": [
    {
     "data": {
      "image/png": "[encoded data removed]",
      "text/plain": [
       "<Figure size 864x360 with 1 Axes>"
      ]
     },
     "metadata": {
      "needs_background": "light"
     },
     "output_type": "display_data"
    },
    {
     "data": {
      "text/html": [
       "<div>\n",
       "<style scoped>\n",
       "    .dataframe tbody tr th:only-of-type {\n",
       "        vertical-align: middle;\n",
       "    }\n",
       "\n",
       "    .dataframe tbody tr th {\n",
       "        vertical-align: top;\n",
       "    }\n",
       "\n",
       "    .dataframe thead th {\n",
       "        text-align: right;\n",
       "    }\n",
       "</style>\n",
       "<table border=\"1\" class=\"dataframe\">\n",
       "  <thead>\n",
       "    <tr style=\"text-align: right;\">\n",
       "      <th></th>\n",
       "      <th>0</th>\n",
       "      <th>1</th>\n",
       "      <th>2</th>\n",
       "      <th>3</th>\n",
       "      <th>4</th>\n",
       "    </tr>\n",
       "  </thead>\n",
       "  <tbody>\n",
       "    <tr>\n",
       "      <th>index</th>\n",
       "      <td>PreK-12</td>\n",
       "      <td>PreK-12; Higher Ed; Corporate</td>\n",
       "      <td>PreK-12; Higher Ed</td>\n",
       "      <td>Corporate</td>\n",
       "      <td>Higher Ed; Corporate</td>\n",
       "    </tr>\n",
       "    <tr>\n",
       "      <th>Sector(s)</th>\n",
       "      <td>1530548</td>\n",
       "      <td>1391195</td>\n",
       "      <td>675023</td>\n",
       "      <td>21921</td>\n",
       "      <td>10337</td>\n",
       "    </tr>\n",
       "  </tbody>\n",
       "</table>\n",
       "</div>"
      ],
      "text/plain": [
       "                 0                              1                   2  \\\n",
       "index      PreK-12  PreK-12; Higher Ed; Corporate  PreK-12; Higher Ed   \n",
       "Sector(s)  1530548                        1391195              675023   \n",
       "\n",
       "                   3                     4  \n",
       "index      Corporate  Higher Ed; Corporate  \n",
       "Sector(s)      21921                 10337  "
      ]
     },
     "execution_count": 33,
     "metadata": {},
     "output_type": "execute_result"
    }
   ],
   "source": [
    "sector_df = df_master_clean['Sector(s)'].value_counts()\n",
    "sector_df = sector_df.to_frame()\n",
    "sector_df.reset_index(level=0,inplace=True)\n",
    "plt.figure(figsize=(12,5))\n",
    "ax = sns.barplot(y='Sector(s)', x='index', data=sector_df)\n",
    "plt.ylabel('Count')\n",
    "plt.xlabel('Sectors')\n",
    "plt.title('Sectors Analysis')\n",
    "ax.grid(True)\n",
    "plt.show()\n",
    "sector_df.T\n"
   ]
  },
  {
   "cell_type": "markdown",
   "id": "2214d8ab",
   "metadata": {
    "papermill": {
     "duration": 0.062712,
     "end_time": "2021-09-17T12:30:27.915284",
     "exception": false,
     "start_time": "2021-09-17T12:30:27.852572",
     "status": "completed"
    },
    "tags": []
   },
   "source": []
  },
  {
   "cell_type": "markdown",
   "id": "989b4970",
   "metadata": {
    "papermill": {
     "duration": 0.060642,
     "end_time": "2021-09-17T12:30:28.037033",
     "exception": false,
     "start_time": "2021-09-17T12:30:27.976391",
     "status": "completed"
    },
    "tags": []
   },
   "source": [
    "## Primary Essential Function Analysis"
   ]
  },
  {
   "cell_type": "code",
   "execution_count": 34,
   "id": "914ca9fe",
   "metadata": {
    "execution": {
     "iopub.execute_input": "2021-09-17T12:30:28.939326Z",
     "iopub.status.busy": "2021-09-17T12:30:28.592398Z",
     "iopub.status.idle": "2021-09-17T12:30:29.629233Z",
     "shell.execute_reply": "2021-09-17T12:30:29.628602Z",
     "shell.execute_reply.started": "2021-09-17T12:12:44.432145Z"
    },
    "papermill": {
     "duration": 1.531618,
     "end_time": "2021-09-17T12:30:29.629395",
     "exception": false,
     "start_time": "2021-09-17T12:30:28.097777",
     "status": "completed"
    },
    "tags": []
   },
   "outputs": [
    {
     "data": {
      "image/png": "[encoded data removed]",
      "text/plain": [
       "<Figure size 1080x864 with 1 Axes>"
      ]
     },
     "metadata": {
      "needs_background": "light"
     },
     "output_type": "display_data"
    }
   ],
   "source": [
    "pef_df = df_master_clean['Primary Essential Function'].value_counts()\n",
    "pef_df = pef_df.to_frame()\n",
    "pef_df.reset_index(level=0,inplace=True)\n",
    "# pef_df = pef_df.head(100)\n",
    "plt.figure(figsize=(15,12))\n",
    "ax = sns.barplot(x='Primary Essential Function', y='index', data=pef_df)\n",
    "plt.xlabel('Count')\n",
    "plt.ylabel('Primary Essential Function')\n",
    "plt.title('Primary Essential Function Analysis')\n",
    "plt.xticks(rotation=90)\n",
    "# plt.rc('font', size=20)  \n",
    "ax.grid(True)\n",
    "plt.show()\n",
    "# pef_df"
   ]
  },
  {
   "cell_type": "code",
   "execution_count": 35,
   "id": "6602a72a",
   "metadata": {
    "execution": {
     "iopub.execute_input": "2021-09-17T12:30:29.765660Z",
     "iopub.status.busy": "2021-09-17T12:30:29.764923Z",
     "iopub.status.idle": "2021-09-17T12:30:32.633935Z",
     "shell.execute_reply": "2021-09-17T12:30:32.634411Z",
     "shell.execute_reply.started": "2021-09-17T11:57:16.460555Z"
    },
    "papermill": {
     "duration": 2.939139,
     "end_time": "2021-09-17T12:30:32.634598",
     "exception": false,
     "start_time": "2021-09-17T12:30:29.695459",
     "status": "completed"
    },
    "tags": []
   },
   "outputs": [
    {
     "data": {
      "text/plain": [
       "LC            2922768\n",
       "SDO            245718\n",
       "CM             235102\n",
       "LC/CM/SDO      225436\n",
       "Name: Primary Essential Function categories, dtype: int64"
      ]
     },
     "execution_count": 35,
     "metadata": {},
     "output_type": "execute_result"
    }
   ],
   "source": [
    "df_master_clean['Primary Essential Function categories'] = df_master_clean['Primary Essential Function'].apply(lambda x: x.split('-')[0])\n",
    "df_master_clean['Primary Essential Function categories'].value_counts()"
   ]
  },
  {
   "cell_type": "code",
   "execution_count": 36,
   "id": "2e466532",
   "metadata": {
    "execution": {
     "iopub.execute_input": "2021-09-17T12:30:32.768408Z",
     "iopub.status.busy": "2021-09-17T12:30:32.767707Z",
     "iopub.status.idle": "2021-09-17T12:30:33.829727Z",
     "shell.execute_reply": "2021-09-17T12:30:33.829064Z",
     "shell.execute_reply.started": "2021-09-17T12:13:07.978563Z"
    },
    "papermill": {
     "duration": 1.131036,
     "end_time": "2021-09-17T12:30:33.829873",
     "exception": false,
     "start_time": "2021-09-17T12:30:32.698837",
     "status": "completed"
    },
    "tags": []
   },
   "outputs": [
    {
     "data": {
      "image/png": "[encoded data removed]",
      "text/plain": [
       "<Figure size 720x432 with 1 Axes>"
      ]
     },
     "metadata": {
      "needs_background": "light"
     },
     "output_type": "display_data"
    }
   ],
   "source": [
    "pef_df1 = df_master_clean['Primary Essential Function categories'].value_counts()\n",
    "pef_df1 = pef_df1.to_frame()\n",
    "pef_df1.reset_index(level=0,inplace=True)\n",
    "# pef_df1 = pef_df.head(10)\n",
    "plt.figure(figsize=(10,6))\n",
    "ax = sns.barplot(y='Primary Essential Function categories', x='index', data=pef_df1)\n",
    "plt.ylabel('Count')\n",
    "plt.xlabel('Primary Essential Function')\n",
    "plt.title('Primary Essential Function Analysis')\n",
    "plt.xticks(rotation=90)\n",
    "# plt.rc('font', size=20)  \n",
    "ax.grid(True)\n",
    "plt.show()"
   ]
  },
  {
   "cell_type": "markdown",
   "id": "e3bd4c2b",
   "metadata": {
    "papermill": {
     "duration": 0.065737,
     "end_time": "2021-09-17T12:30:33.960705",
     "exception": false,
     "start_time": "2021-09-17T12:30:33.894968",
     "status": "completed"
    },
    "tags": []
   },
   "source": [
    "Highest engagement in Learning and Curriculum(LC)"
   ]
  },
  {
   "cell_type": "code",
   "execution_count": 37,
   "id": "4142659c",
   "metadata": {
    "execution": {
     "iopub.execute_input": "2021-09-17T12:30:34.099949Z",
     "iopub.status.busy": "2021-09-17T12:30:34.099048Z",
     "iopub.status.idle": "2021-09-17T12:30:34.311806Z",
     "shell.execute_reply": "2021-09-17T12:30:34.311228Z",
     "shell.execute_reply.started": "2021-09-17T12:15:37.575000Z"
    },
    "papermill": {
     "duration": 0.286181,
     "end_time": "2021-09-17T12:30:34.311945",
     "exception": false,
     "start_time": "2021-09-17T12:30:34.025764",
     "status": "completed"
    },
    "tags": []
   },
   "outputs": [
    {
     "data": {
      "image/png": "[encoded data removed]",
      "text/plain": [
       "<Figure size 720x432 with 1 Axes>"
      ]
     },
     "metadata": {
      "needs_background": "light"
     },
     "output_type": "display_data"
    }
   ],
   "source": [
    "type_df = df_master_clean['pct_black/hispanic'].value_counts()\n",
    "type_df = type_df.to_frame()\n",
    "type_df.reset_index(level=0,inplace=True)\n",
    "# pef_df1 = pef_df.head(10)\n",
    "plt.figure(figsize=(10,6))\n",
    "ax = sns.barplot(y='pct_black/hispanic', x='index', data=type_df)\n",
    "plt.ylabel('Count')\n",
    "plt.xlabel('pct_black/hispanic')\n",
    "plt.title('pct_black/hispanic Analysis')\n",
    "plt.xticks(rotation=90) \n",
    "ax.grid(True)\n",
    "plt.show()"
   ]
  },
  {
   "cell_type": "markdown",
   "id": "07ab5c74",
   "metadata": {
    "papermill": {
     "duration": 0.065373,
     "end_time": "2021-09-17T12:30:34.443256",
     "exception": false,
     "start_time": "2021-09-17T12:30:34.377883",
     "status": "completed"
    },
    "tags": []
   },
   "source": [
    "### Work in progress.."
   ]
  },
  {
   "cell_type": "code",
   "execution_count": 38,
   "id": "cf9560b6",
   "metadata": {
    "execution": {
     "iopub.execute_input": "2021-09-17T12:30:34.900574Z",
     "iopub.status.busy": "2021-09-17T12:30:34.899507Z",
     "iopub.status.idle": "2021-09-17T12:30:35.860606Z",
     "shell.execute_reply": "2021-09-17T12:30:35.859943Z",
     "shell.execute_reply.started": "2021-09-17T12:23:48.416462Z"
    },
    "papermill": {
     "duration": 1.349434,
     "end_time": "2021-09-17T12:30:35.860761",
     "exception": false,
     "start_time": "2021-09-17T12:30:34.511327",
     "status": "completed"
    },
    "tags": []
   },
   "outputs": [
    {
     "data": {
      "image/png": "[encoded data removed]",
      "text/plain": [
       "<Figure size 720x432 with 1 Axes>"
      ]
     },
     "metadata": {
      "needs_background": "light"
     },
     "output_type": "display_data"
    }
   ],
   "source": [
    "type_df1 = df_master_clean.pivot_table(values='engagement_index',\n",
    "                                            index='pct_black/hispanic',\n",
    "                                            aggfunc='sum')\n",
    "\n",
    "type_df1.reset_index(level=0,inplace=True)\n",
    "\n",
    "plt.figure(figsize=(10,6))\n",
    "ax = sns.barplot(y='engagement_index', x='pct_black/hispanic', data=type_df1)\n",
    "plt.ylabel('Count')\n",
    "plt.xlabel('pct_black/hispanic')\n",
    "plt.title('pct_black/hispanic Analysis')\n",
    "plt.xticks(rotation=90) \n",
    "ax.grid(True)\n",
    "plt.show()"
   ]
  },
  {
   "cell_type": "markdown",
   "id": "0701e63c",
   "metadata": {
    "papermill": {
     "duration": 0.067874,
     "end_time": "2021-09-17T12:30:35.995869",
     "exception": false,
     "start_time": "2021-09-17T12:30:35.927995",
     "status": "completed"
    },
    "tags": []
   },
   "source": [
    "Work in progress"
   ]
  }
 ],
 "metadata": {
  "kernelspec": {
   "display_name": "Python 3",
   "language": "python",
   "name": "python3"
  },
  "language_info": {
   "codemirror_mode": {
    "name": "ipython",
    "version": 3
   },
   "file_extension": ".py",
   "mimetype": "text/x-python",
   "name": "python",
   "nbconvert_exporter": "python",
   "pygments_lexer": "ipython3",
   "version": "3.7.10"
  },
  "papermill": {
   "default_parameters": {},
   "duration": 155.929155,
   "end_time": "2021-09-17T12:30:39.524233",
   "environment_variables": {},
   "exception": null,
   "input_path": "__notebook__.ipynb",
   "output_path": "__notebook__.ipynb",
   "parameters": {},
   "start_time": "2021-09-17T12:28:03.595078",
   "version": "2.3.3"
  }
 },
 "nbformat": 4,
 "nbformat_minor": 5
}
